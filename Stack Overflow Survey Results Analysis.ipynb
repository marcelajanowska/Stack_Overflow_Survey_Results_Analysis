{
 "cells": [
  {
   "cell_type": "markdown",
   "metadata": {},
   "source": [
    "This is a workbook analysing StackOverflow Yearly Survey Results"
   ]
  },
  {
   "cell_type": "code",
   "execution_count": 4,
   "metadata": {},
   "outputs": [],
   "source": [
    "# Loading libraries\n",
    "\n",
    "import pandas as pd\n",
    "import numpy as np\n",
    "import matplotlib as plt\n",
    "import seaborn as sns\n",
    "# %matplotlip inline\n",
    "\n",
    "# libraries\n",
    "import numpy as np\n",
    "import matplotlib.pyplot as plt\n",
    "\n",
    "\n",
    "from scipy.stats import ttest_ind # library to perform t-test"
   ]
  },
  {
   "cell_type": "code",
   "execution_count": 5,
   "metadata": {},
   "outputs": [
    {
     "data": {
      "text/plain": [
       "(51392, 154)"
      ]
     },
     "execution_count": 5,
     "metadata": {},
     "output_type": "execute_result"
    }
   ],
   "source": [
    "# loading data\n",
    "\n",
    "df = pd.read_csv('survey-results-public.csv')\n",
    "df.shape"
   ]
  },
  {
   "cell_type": "code",
   "execution_count": 6,
   "metadata": {},
   "outputs": [
    {
     "data": {
      "text/plain": [
       "(35047, 154)"
      ]
     },
     "execution_count": 6,
     "metadata": {},
     "output_type": "execute_result"
    }
   ],
   "source": [
    "# remove rows with no gender information\n",
    "\n",
    "df = df.dropna(subset = ['Gender'], axis = 0)\n",
    "df.shape"
   ]
  },
  {
   "cell_type": "code",
   "execution_count": 9,
   "metadata": {},
   "outputs": [],
   "source": [
    "# number of records by gender\n",
    "df['Gender'].value_counts()\n",
    "\n",
    "# re-categorise gender field to 'Male', 'Female' and 'Other'\n",
    "df['Gender'] = np.where(df.Gender == 'Male', 'Male', np.where(df.Gender == 'Female', 'Female', 'Others'))"
   ]
  },
  {
   "cell_type": "code",
   "execution_count": 92,
   "metadata": {
    "scrolled": false
   },
   "outputs": [
    {
     "name": "stdout",
     "output_type": "stream",
     "text": [
      "Male      31589\n",
      "Female     2600\n",
      "Others      858\n",
      "Name: Gender, dtype: int64\n",
      "Male      0.901332\n",
      "Female    0.074186\n",
      "Others    0.024481\n",
      "Name: Gender, dtype: float64\n"
     ]
    },
    {
     "data": {
      "text/plain": [
       "<matplotlib.axes._subplots.AxesSubplot at 0x133d8e75708>"
      ]
     },
     "execution_count": 92,
     "metadata": {},
     "output_type": "execute_result"
    },
    {
     "data": {
      "image/png": "[encoded data removed]",
      "text/plain": [
       "<Figure size 432x288 with 1 Axes>"
      ]
     },
     "metadata": {
      "needs_background": "light"
     },
     "output_type": "display_data"
    }
   ],
   "source": [
    "# Simple distribution of Gender Category\n",
    "print(df['Gender'].value_counts())\n",
    "print(df['Gender'].value_counts()/df.shape[0])\n",
    "\n",
    "(df['Gender'].value_counts()).plot(kind = 'barh', color='#557f2d')"
   ]
  },
  {
   "cell_type": "code",
   "execution_count": 17,
   "metadata": {},
   "outputs": [
    {
     "name": "stdout",
     "output_type": "stream",
     "text": [
      "The % of male survey respondents was 0.90\n",
      "The % of female survey respondenst was 0.07\n"
     ]
    }
   ],
   "source": [
    "print(\"The % of male survey respondents was {:.2f}\".format(sum(df.Gender == 'Male')/df.shape[0]))\n",
    "print(\"The % of female survey respondenst was {:.2f}\".format(sum(df.Gender == 'Female')/df.shape[0]))"
   ]
  },
  {
   "cell_type": "markdown",
   "metadata": {},
   "source": [
    "## Female Rate by Country"
   ]
  },
  {
   "cell_type": "code",
   "execution_count": 81,
   "metadata": {},
   "outputs": [
    {
     "name": "stdout",
     "output_type": "stream",
     "text": [
      "Male      24053\n",
      "Female     2068\n",
      "Others      654\n",
      "Name: Gender, dtype: int64\n"
     ]
    }
   ],
   "source": [
    "#  selecting only countries with at least 1% of all respondents\n",
    "\n",
    "df_countries = ((df.groupby(['Country'])['Respondent'].count().sort_values(ascending = False)/df.shape[0])>=.01).reset_index()\n",
    "df_countries = df_countries[df_countries.Respondent == True]\n",
    "\n",
    "# create a df with only a subset of countries\n",
    "list_countries = list(df_countries.iloc[:, 0])\n",
    "\n",
    "subset_df = df[df['Country'].isin(list_countries)]\n",
    "\n",
    "# print the count by gender\n",
    "print(subset_df['Gender'].value_counts())"
   ]
  },
  {
   "cell_type": "code",
   "execution_count": 156,
   "metadata": {},
   "outputs": [
    {
     "data": {
      "text/plain": [
       "Country\n",
       "United States         8546\n",
       "United Kingdom        3259\n",
       "Germany               2962\n",
       "India                 2672\n",
       "Canada                1630\n",
       "France                1184\n",
       "Poland                 933\n",
       "Australia              702\n",
       "Netherlands            637\n",
       "Russian Federation     591\n",
       "Spain                  571\n",
       "Italy                  537\n",
       "Brazil                 523\n",
       "Sweden                 448\n",
       "Switzerland            427\n",
       "Romania                403\n",
       "Israel                 392\n",
       "Austria                358\n",
       "Name: Respondent, dtype: int64"
      ]
     },
     "execution_count": 156,
     "metadata": {},
     "output_type": "execute_result"
    }
   ],
   "source": [
    "subset_df.groupby(['Country'])['Respondent'].count().sort_values(ascending= False)"
   ]
  },
  {
   "cell_type": "code",
   "execution_count": 141,
   "metadata": {},
   "outputs": [
    {
     "data": {
      "text/html": [
       "<div>\n",
       "<style scoped>\n",
       "    .dataframe tbody tr th:only-of-type {\n",
       "        vertical-align: middle;\n",
       "    }\n",
       "\n",
       "    .dataframe tbody tr th {\n",
       "        vertical-align: top;\n",
       "    }\n",
       "\n",
       "    .dataframe thead th {\n",
       "        text-align: right;\n",
       "    }\n",
       "</style>\n",
       "<table border=\"1\" class=\"dataframe\">\n",
       "  <thead>\n",
       "    <tr style=\"text-align: right;\">\n",
       "      <th></th>\n",
       "      <th>Country</th>\n",
       "      <th>Gender</th>\n",
       "      <th>Respondent</th>\n",
       "    </tr>\n",
       "  </thead>\n",
       "  <tbody>\n",
       "    <tr>\n",
       "      <td>0</td>\n",
       "      <td>Australia</td>\n",
       "      <td>Female</td>\n",
       "      <td>0.056980</td>\n",
       "    </tr>\n",
       "    <tr>\n",
       "      <td>1</td>\n",
       "      <td>Australia</td>\n",
       "      <td>Male</td>\n",
       "      <td>0.903134</td>\n",
       "    </tr>\n",
       "    <tr>\n",
       "      <td>2</td>\n",
       "      <td>Australia</td>\n",
       "      <td>Others</td>\n",
       "      <td>0.039886</td>\n",
       "    </tr>\n",
       "    <tr>\n",
       "      <td>3</td>\n",
       "      <td>Austria</td>\n",
       "      <td>Female</td>\n",
       "      <td>0.064246</td>\n",
       "    </tr>\n",
       "    <tr>\n",
       "      <td>4</td>\n",
       "      <td>Austria</td>\n",
       "      <td>Male</td>\n",
       "      <td>0.899441</td>\n",
       "    </tr>\n",
       "    <tr>\n",
       "      <td>5</td>\n",
       "      <td>Austria</td>\n",
       "      <td>Others</td>\n",
       "      <td>0.036313</td>\n",
       "    </tr>\n",
       "    <tr>\n",
       "      <td>6</td>\n",
       "      <td>Brazil</td>\n",
       "      <td>Female</td>\n",
       "      <td>0.047801</td>\n",
       "    </tr>\n",
       "    <tr>\n",
       "      <td>7</td>\n",
       "      <td>Brazil</td>\n",
       "      <td>Male</td>\n",
       "      <td>0.938815</td>\n",
       "    </tr>\n",
       "    <tr>\n",
       "      <td>8</td>\n",
       "      <td>Brazil</td>\n",
       "      <td>Others</td>\n",
       "      <td>0.013384</td>\n",
       "    </tr>\n",
       "    <tr>\n",
       "      <td>9</td>\n",
       "      <td>Canada</td>\n",
       "      <td>Female</td>\n",
       "      <td>0.092025</td>\n",
       "    </tr>\n",
       "    <tr>\n",
       "      <td>10</td>\n",
       "      <td>Canada</td>\n",
       "      <td>Male</td>\n",
       "      <td>0.887117</td>\n",
       "    </tr>\n",
       "    <tr>\n",
       "      <td>11</td>\n",
       "      <td>Canada</td>\n",
       "      <td>Others</td>\n",
       "      <td>0.020859</td>\n",
       "    </tr>\n",
       "    <tr>\n",
       "      <td>12</td>\n",
       "      <td>France</td>\n",
       "      <td>Female</td>\n",
       "      <td>0.054054</td>\n",
       "    </tr>\n",
       "    <tr>\n",
       "      <td>13</td>\n",
       "      <td>France</td>\n",
       "      <td>Male</td>\n",
       "      <td>0.923986</td>\n",
       "    </tr>\n",
       "    <tr>\n",
       "      <td>14</td>\n",
       "      <td>France</td>\n",
       "      <td>Others</td>\n",
       "      <td>0.021959</td>\n",
       "    </tr>\n",
       "    <tr>\n",
       "      <td>15</td>\n",
       "      <td>Germany</td>\n",
       "      <td>Female</td>\n",
       "      <td>0.051654</td>\n",
       "    </tr>\n",
       "    <tr>\n",
       "      <td>16</td>\n",
       "      <td>Germany</td>\n",
       "      <td>Male</td>\n",
       "      <td>0.925051</td>\n",
       "    </tr>\n",
       "    <tr>\n",
       "      <td>17</td>\n",
       "      <td>Germany</td>\n",
       "      <td>Others</td>\n",
       "      <td>0.023295</td>\n",
       "    </tr>\n",
       "    <tr>\n",
       "      <td>18</td>\n",
       "      <td>India</td>\n",
       "      <td>Female</td>\n",
       "      <td>0.086078</td>\n",
       "    </tr>\n",
       "    <tr>\n",
       "      <td>19</td>\n",
       "      <td>India</td>\n",
       "      <td>Male</td>\n",
       "      <td>0.906437</td>\n",
       "    </tr>\n",
       "    <tr>\n",
       "      <td>20</td>\n",
       "      <td>India</td>\n",
       "      <td>Others</td>\n",
       "      <td>0.007485</td>\n",
       "    </tr>\n",
       "    <tr>\n",
       "      <td>21</td>\n",
       "      <td>Israel</td>\n",
       "      <td>Female</td>\n",
       "      <td>0.102041</td>\n",
       "    </tr>\n",
       "    <tr>\n",
       "      <td>22</td>\n",
       "      <td>Israel</td>\n",
       "      <td>Male</td>\n",
       "      <td>0.882653</td>\n",
       "    </tr>\n",
       "    <tr>\n",
       "      <td>23</td>\n",
       "      <td>Israel</td>\n",
       "      <td>Others</td>\n",
       "      <td>0.015306</td>\n",
       "    </tr>\n",
       "    <tr>\n",
       "      <td>24</td>\n",
       "      <td>Italy</td>\n",
       "      <td>Female</td>\n",
       "      <td>0.029795</td>\n",
       "    </tr>\n",
       "    <tr>\n",
       "      <td>25</td>\n",
       "      <td>Italy</td>\n",
       "      <td>Male</td>\n",
       "      <td>0.959032</td>\n",
       "    </tr>\n",
       "    <tr>\n",
       "      <td>26</td>\n",
       "      <td>Italy</td>\n",
       "      <td>Others</td>\n",
       "      <td>0.011173</td>\n",
       "    </tr>\n",
       "    <tr>\n",
       "      <td>27</td>\n",
       "      <td>Netherlands</td>\n",
       "      <td>Female</td>\n",
       "      <td>0.045526</td>\n",
       "    </tr>\n",
       "    <tr>\n",
       "      <td>28</td>\n",
       "      <td>Netherlands</td>\n",
       "      <td>Male</td>\n",
       "      <td>0.938776</td>\n",
       "    </tr>\n",
       "    <tr>\n",
       "      <td>29</td>\n",
       "      <td>Netherlands</td>\n",
       "      <td>Others</td>\n",
       "      <td>0.015699</td>\n",
       "    </tr>\n",
       "    <tr>\n",
       "      <td>30</td>\n",
       "      <td>Poland</td>\n",
       "      <td>Female</td>\n",
       "      <td>0.105038</td>\n",
       "    </tr>\n",
       "    <tr>\n",
       "      <td>31</td>\n",
       "      <td>Poland</td>\n",
       "      <td>Male</td>\n",
       "      <td>0.863880</td>\n",
       "    </tr>\n",
       "    <tr>\n",
       "      <td>32</td>\n",
       "      <td>Poland</td>\n",
       "      <td>Others</td>\n",
       "      <td>0.031083</td>\n",
       "    </tr>\n",
       "    <tr>\n",
       "      <td>33</td>\n",
       "      <td>Romania</td>\n",
       "      <td>Female</td>\n",
       "      <td>0.071960</td>\n",
       "    </tr>\n",
       "    <tr>\n",
       "      <td>34</td>\n",
       "      <td>Romania</td>\n",
       "      <td>Male</td>\n",
       "      <td>0.898263</td>\n",
       "    </tr>\n",
       "    <tr>\n",
       "      <td>35</td>\n",
       "      <td>Romania</td>\n",
       "      <td>Others</td>\n",
       "      <td>0.029777</td>\n",
       "    </tr>\n",
       "    <tr>\n",
       "      <td>36</td>\n",
       "      <td>Russian Federation</td>\n",
       "      <td>Female</td>\n",
       "      <td>0.052453</td>\n",
       "    </tr>\n",
       "    <tr>\n",
       "      <td>37</td>\n",
       "      <td>Russian Federation</td>\n",
       "      <td>Male</td>\n",
       "      <td>0.917090</td>\n",
       "    </tr>\n",
       "    <tr>\n",
       "      <td>38</td>\n",
       "      <td>Russian Federation</td>\n",
       "      <td>Others</td>\n",
       "      <td>0.030457</td>\n",
       "    </tr>\n",
       "    <tr>\n",
       "      <td>39</td>\n",
       "      <td>Spain</td>\n",
       "      <td>Female</td>\n",
       "      <td>0.071804</td>\n",
       "    </tr>\n",
       "    <tr>\n",
       "      <td>40</td>\n",
       "      <td>Spain</td>\n",
       "      <td>Male</td>\n",
       "      <td>0.907180</td>\n",
       "    </tr>\n",
       "    <tr>\n",
       "      <td>41</td>\n",
       "      <td>Spain</td>\n",
       "      <td>Others</td>\n",
       "      <td>0.021016</td>\n",
       "    </tr>\n",
       "    <tr>\n",
       "      <td>42</td>\n",
       "      <td>Sweden</td>\n",
       "      <td>Female</td>\n",
       "      <td>0.040179</td>\n",
       "    </tr>\n",
       "    <tr>\n",
       "      <td>43</td>\n",
       "      <td>Sweden</td>\n",
       "      <td>Male</td>\n",
       "      <td>0.933036</td>\n",
       "    </tr>\n",
       "    <tr>\n",
       "      <td>44</td>\n",
       "      <td>Sweden</td>\n",
       "      <td>Others</td>\n",
       "      <td>0.026786</td>\n",
       "    </tr>\n",
       "    <tr>\n",
       "      <td>45</td>\n",
       "      <td>Switzerland</td>\n",
       "      <td>Female</td>\n",
       "      <td>0.030445</td>\n",
       "    </tr>\n",
       "    <tr>\n",
       "      <td>46</td>\n",
       "      <td>Switzerland</td>\n",
       "      <td>Male</td>\n",
       "      <td>0.932084</td>\n",
       "    </tr>\n",
       "    <tr>\n",
       "      <td>47</td>\n",
       "      <td>Switzerland</td>\n",
       "      <td>Others</td>\n",
       "      <td>0.037471</td>\n",
       "    </tr>\n",
       "    <tr>\n",
       "      <td>48</td>\n",
       "      <td>United Kingdom</td>\n",
       "      <td>Female</td>\n",
       "      <td>0.067812</td>\n",
       "    </tr>\n",
       "    <tr>\n",
       "      <td>49</td>\n",
       "      <td>United Kingdom</td>\n",
       "      <td>Male</td>\n",
       "      <td>0.906413</td>\n",
       "    </tr>\n",
       "    <tr>\n",
       "      <td>50</td>\n",
       "      <td>United Kingdom</td>\n",
       "      <td>Others</td>\n",
       "      <td>0.025775</td>\n",
       "    </tr>\n",
       "    <tr>\n",
       "      <td>51</td>\n",
       "      <td>United States</td>\n",
       "      <td>Female</td>\n",
       "      <td>0.099111</td>\n",
       "    </tr>\n",
       "    <tr>\n",
       "      <td>52</td>\n",
       "      <td>United States</td>\n",
       "      <td>Male</td>\n",
       "      <td>0.871402</td>\n",
       "    </tr>\n",
       "    <tr>\n",
       "      <td>53</td>\n",
       "      <td>United States</td>\n",
       "      <td>Others</td>\n",
       "      <td>0.029487</td>\n",
       "    </tr>\n",
       "  </tbody>\n",
       "</table>\n",
       "</div>"
      ],
      "text/plain": [
       "               Country  Gender  Respondent\n",
       "0            Australia  Female    0.056980\n",
       "1            Australia    Male    0.903134\n",
       "2            Australia  Others    0.039886\n",
       "3              Austria  Female    0.064246\n",
       "4              Austria    Male    0.899441\n",
       "5              Austria  Others    0.036313\n",
       "6               Brazil  Female    0.047801\n",
       "7               Brazil    Male    0.938815\n",
       "8               Brazil  Others    0.013384\n",
       "9               Canada  Female    0.092025\n",
       "10              Canada    Male    0.887117\n",
       "11              Canada  Others    0.020859\n",
       "12              France  Female    0.054054\n",
       "13              France    Male    0.923986\n",
       "14              France  Others    0.021959\n",
       "15             Germany  Female    0.051654\n",
       "16             Germany    Male    0.925051\n",
       "17             Germany  Others    0.023295\n",
       "18               India  Female    0.086078\n",
       "19               India    Male    0.906437\n",
       "20               India  Others    0.007485\n",
       "21              Israel  Female    0.102041\n",
       "22              Israel    Male    0.882653\n",
       "23              Israel  Others    0.015306\n",
       "24               Italy  Female    0.029795\n",
       "25               Italy    Male    0.959032\n",
       "26               Italy  Others    0.011173\n",
       "27         Netherlands  Female    0.045526\n",
       "28         Netherlands    Male    0.938776\n",
       "29         Netherlands  Others    0.015699\n",
       "30              Poland  Female    0.105038\n",
       "31              Poland    Male    0.863880\n",
       "32              Poland  Others    0.031083\n",
       "33             Romania  Female    0.071960\n",
       "34             Romania    Male    0.898263\n",
       "35             Romania  Others    0.029777\n",
       "36  Russian Federation  Female    0.052453\n",
       "37  Russian Federation    Male    0.917090\n",
       "38  Russian Federation  Others    0.030457\n",
       "39               Spain  Female    0.071804\n",
       "40               Spain    Male    0.907180\n",
       "41               Spain  Others    0.021016\n",
       "42              Sweden  Female    0.040179\n",
       "43              Sweden    Male    0.933036\n",
       "44              Sweden  Others    0.026786\n",
       "45         Switzerland  Female    0.030445\n",
       "46         Switzerland    Male    0.932084\n",
       "47         Switzerland  Others    0.037471\n",
       "48      United Kingdom  Female    0.067812\n",
       "49      United Kingdom    Male    0.906413\n",
       "50      United Kingdom  Others    0.025775\n",
       "51       United States  Female    0.099111\n",
       "52       United States    Male    0.871402\n",
       "53       United States  Others    0.029487"
      ]
     },
     "execution_count": 141,
     "metadata": {},
     "output_type": "execute_result"
    }
   ],
   "source": [
    "# Country and Gender and % of total\n",
    "groups = subset_df.groupby(['Country', 'Gender'])['Respondent'].count()/subset_df.groupby(['Country'])['Respondent'].count()\n",
    "groups = groups.reset_index()\n",
    "groups"
   ]
  },
  {
   "cell_type": "code",
   "execution_count": 139,
   "metadata": {},
   "outputs": [
    {
     "data": {
      "text/plain": [
       "<matplotlib.axes._subplots.AxesSubplot at 0x133db68a8c8>"
      ]
     },
     "execution_count": 139,
     "metadata": {},
     "output_type": "execute_result"
    },
    {
     "data": {
      "image/png": "[encoded data removed]",
      "text/plain": [
       "<Figure size 864x576 with 1 Axes>"
      ]
     },
     "metadata": {
      "needs_background": "light"
     },
     "output_type": "display_data"
    }
   ],
   "source": [
    "# female respondents as a proportion of all respondents in a country\n",
    "groups[groups.Gender == 'Female'].sort_values(by = 'Respondent').set_index('Country').plot(kind = 'barh', figsize = (12,8), color='#557f2d')"
   ]
  },
  {
   "cell_type": "code",
   "execution_count": 123,
   "metadata": {},
   "outputs": [
    {
     "data": {
      "image/png": "[encoded data removed]",
      "text/plain": [
       "<Figure size 1440x576 with 1 Axes>"
      ]
     },
     "metadata": {
      "needs_background": "light"
     },
     "output_type": "display_data"
    }
   ],
   "source": [
    "plt.figure(figsize=(20,8))\n",
    " \n",
    "# set width of bar\n",
    "barWidth = 0.25\n",
    " \n",
    "# set height of bar\n",
    "bars1 = list(groups[groups.Gender == 'Female']['Respondent'])\n",
    "bars2 = list(groups[groups.Gender == 'Male']['Respondent'])\n",
    " \n",
    "# Set position of bar on X axis\n",
    "r1 = np.arange(len(bars1))\n",
    "r2 = [x + barWidth for x in r1]\n",
    " \n",
    "# Make the plot\n",
    "plt.bar(r1, bars1, color='#7f6d5f', width=barWidth, edgecolor='white', label='Female')\n",
    "plt.bar(r2, bars2, color='#557f2d', width=barWidth, edgecolor='white', label='Male')\n",
    " \n",
    "# Add xticks on the middle of the group bars\n",
    "plt.xlabel('group', fontweight='bold')\n",
    "plt.xticks([r + barWidth for r in range(len(bars1))], sorted(list(set(groups['Country']))))\n",
    " \n",
    "# Create legend & Show graphic\n",
    "plt.legend()\n",
    "plt.show()\n"
   ]
  },
  {
   "cell_type": "markdown",
   "metadata": {},
   "source": [
    "## Gender and Career"
   ]
  },
  {
   "cell_type": "code",
   "execution_count": 147,
   "metadata": {},
   "outputs": [],
   "source": [
    "def prepare_df(df, column):\n",
    "    \"\"\"Make sure that the selected column in the df has no NaN values\"\"\"\n",
    "    df = df.dropna(subset = [column], axis = 0)\n",
    "    return df"
   ]
  },
  {
   "cell_type": "code",
   "execution_count": 150,
   "metadata": {},
   "outputs": [],
   "source": [
    "test_list = ['JobSatisfaction', 'CareerSatisfaction']"
   ]
  },
  {
   "cell_type": "code",
   "execution_count": null,
   "metadata": {},
   "outputs": [],
   "source": [
    "def run_ttest()"
   ]
  },
  {
   "cell_type": "code",
   "execution_count": 53,
   "metadata": {},
   "outputs": [
    {
     "data": {
      "text/plain": [
       "Ttest_indResult(statistic=1.413235478252994, pvalue=0.1575974447262672)"
      ]
     },
     "execution_count": 53,
     "metadata": {},
     "output_type": "execute_result"
    }
   ],
   "source": [
    "df_JS = df.dropna(subset = ['JobSatisfaction'], axis = 0)\n",
    "df_JS.groupby('Gender')['JobSatisfaction'].mean()\n",
    "\n",
    "\n",
    "cat1 = df_JS[df_JS['Gender']=='Male']\n",
    "cat2 =df_JS[df_JS['Gender']=='Female']\n",
    "\n",
    "ttest_ind(cat1['JobSatisfaction'], cat2['JobSatisfaction'])\n",
    "# >>> (1.4927289925706944, 0.16970867501294376)"
   ]
  },
  {
   "cell_type": "code",
   "execution_count": 65,
   "metadata": {},
   "outputs": [
    {
     "name": "stdout",
     "output_type": "stream",
     "text": [
      "Gender\n",
      "Female    7.185069\n",
      "Male      7.394061\n",
      "Name: CareerSatisfaction, dtype: float64\n"
     ]
    },
    {
     "data": {
      "text/plain": [
       "Ttest_indResult(statistic=5.093512998370622, pvalue=3.536284963624364e-07)"
      ]
     },
     "execution_count": 65,
     "metadata": {},
     "output_type": "execute_result"
    }
   ],
   "source": [
    "df_CS = df.dropna(subset = ['CareerSatisfaction'], axis = 0)\n",
    "print(df_CS.groupby('Gender')['CareerSatisfaction'].mean())\n",
    "\n",
    "cat1 = df_CS[df_CS['Gender']=='Male']\n",
    "cat2 =df_CS[df_CS['Gender']=='Female']\n",
    "\n",
    "ttest_ind(cat1['CareerSatisfaction'], cat2['CareerSatisfaction'])"
   ]
  },
  {
   "cell_type": "code",
   "execution_count": 90,
   "metadata": {},
   "outputs": [
    {
     "data": {
      "text/plain": [
       "<matplotlib.axes._subplots.AxesSubplot at 0x26c82aabf48>"
      ]
     },
     "execution_count": 90,
     "metadata": {},
     "output_type": "execute_result"
    },
    {
     "data": {
      "image/png": "[encoded data removed]",
      "text/plain": [
       "<Figure size 432x288 with 1 Axes>"
      ]
     },
     "metadata": {
      "needs_background": "light"
     },
     "output_type": "display_data"
    }
   ],
   "source": [
    "x1 = df_CS.loc[df_CS.Gender == 'Male', 'CareerSatisfaction']\n",
    "x2 = df_CS.loc[df_CS.Gender == 'Female', 'CareerSatisfaction']\n",
    "# x3 = df.loc[df.cut=='Good', 'depth']\n",
    "\n",
    "# Draw the density plot\n",
    "sns.distplot(x1, hist = False, kde = True,kde_kws = {'linewidth': 3})\n",
    "sns.distplot(x2, hist = False, kde = True,kde_kws = {'linewidth': 3})"
   ]
  },
  {
   "cell_type": "code",
   "execution_count": 87,
   "metadata": {},
   "outputs": [
    {
     "data": {
      "text/plain": [
       "8         8.0\n",
       "10        8.0\n",
       "73       10.0\n",
       "111       7.0\n",
       "143       5.0\n",
       "         ... \n",
       "34113    10.0\n",
       "34121     7.0\n",
       "34150     8.0\n",
       "34159     8.0\n",
       "34183     7.0\n",
       "Name: CareerSatisfaction, Length: 2237, dtype: float64"
      ]
     },
     "execution_count": 87,
     "metadata": {},
     "output_type": "execute_result"
    }
   ],
   "source": [
    "x2"
   ]
  },
  {
   "cell_type": "code",
   "execution_count": 70,
   "metadata": {
    "scrolled": true
   },
   "outputs": [
    {
     "data": {
      "text/plain": [
       "<matplotlib.axes._subplots.AxesSubplot at 0x26c82222488>"
      ]
     },
     "execution_count": 70,
     "metadata": {},
     "output_type": "execute_result"
    },
    {
     "data": {
      "image/png": "[encoded data removed]",
      "text/plain": [
       "<Figure size 432x288 with 1 Axes>"
      ]
     },
     "metadata": {
      "needs_background": "light"
     },
     "output_type": "display_data"
    }
   ],
   "source": [
    "df_CS[df_CS['Gender']== 'Male']['JobSatisfaction'].hist()\n",
    "df_CS[df_CS['Gender']== 'Female']['JobSatisfaction'].hist()"
   ]
  },
  {
   "cell_type": "code",
   "execution_count": 91,
   "metadata": {},
   "outputs": [
    {
     "data": {
      "text/plain": [
       "<matplotlib.axes._subplots.AxesSubplot at 0x26c82b0af88>"
      ]
     },
     "execution_count": 91,
     "metadata": {},
     "output_type": "execute_result"
    },
    {
     "data": {
      "image/png": "[encoded data removed]",
      "text/plain": [
       "<Figure size 432x288 with 1 Axes>"
      ]
     },
     "metadata": {
      "needs_background": "light"
     },
     "output_type": "display_data"
    }
   ],
   "source": [
    "df_CS[df_CS['Gender']== 'Female']['JobSatisfaction'].hist()"
   ]
  },
  {
   "cell_type": "code",
   "execution_count": 96,
   "metadata": {},
   "outputs": [
    {
     "name": "stdout",
     "output_type": "stream",
     "text": [
      "Gender\n",
      "Female    58083.924534\n",
      "Male      56996.494293\n",
      "Name: Salary, dtype: float64\n"
     ]
    },
    {
     "data": {
      "text/plain": [
       "Ttest_indResult(statistic=-0.7564769929054644, pvalue=0.4493787807516285)"
      ]
     },
     "execution_count": 96,
     "metadata": {},
     "output_type": "execute_result"
    }
   ],
   "source": [
    "df_CS = df.dropna(subset = ['Salary'], axis = 0)\n",
    "print(df_CS.groupby('Gender')['Salary'].mean())\n",
    "\n",
    "cat1 = df_CS[df_CS['Gender']=='Male']\n",
    "cat2 =df_CS[df_CS['Gender']=='Female']\n",
    "\n",
    "ttest_ind(cat1['Salary'], cat2['Salary'])"
   ]
  },
  {
   "cell_type": "code",
   "execution_count": 101,
   "metadata": {},
   "outputs": [
    {
     "name": "stdout",
     "output_type": "stream",
     "text": [
      "Gender  FormalEducation                                                  \n",
      "Female  Bachelor's degree                                                    6.988596\n",
      "        Doctoral degree                                                      7.387097\n",
      "        I never completed any formal education                               4.500000\n",
      "        I prefer not to answer                                               6.500000\n",
      "        Master's degree                                                      6.765650\n",
      "        Primary/elementary school                                            6.000000\n",
      "        Professional degree                                                  6.851852\n",
      "        Secondary school                                                     6.978723\n",
      "        Some college/university study without earning a bachelor's degree    7.021390\n",
      "Male    Bachelor's degree                                                    6.910739\n",
      "        Doctoral degree                                                      7.337662\n",
      "        I never completed any formal education                               7.375000\n",
      "        I prefer not to answer                                               6.920000\n",
      "        Master's degree                                                      7.012021\n",
      "        Primary/elementary school                                            7.013514\n",
      "        Professional degree                                                  7.173913\n",
      "        Secondary school                                                     7.182182\n",
      "        Some college/university study without earning a bachelor's degree    7.103134\n",
      "Name: JobSatisfaction, dtype: float64\n"
     ]
    }
   ],
   "source": [
    "df_CS = df.dropna(subset = ['FormalEducation', 'JobSatisfaction'], axis = 0)\n",
    "print(df_CS.groupby(['Gender', 'FormalEducation'])['JobSatisfaction'].mean())"
   ]
  },
  {
   "cell_type": "code",
   "execution_count": 102,
   "metadata": {},
   "outputs": [
    {
     "name": "stdout",
     "output_type": "stream",
     "text": [
      "Gender  FormalEducation                                                  \n",
      "Female  Bachelor's degree                                                    60040.908291\n",
      "        Doctoral degree                                                      90623.768006\n",
      "        I prefer not to answer                                               13255.786387\n",
      "        Master's degree                                                      56210.867588\n",
      "        Primary/elementary school                                            32258.064516\n",
      "        Professional degree                                                  45458.307618\n",
      "        Secondary school                                                     41110.162320\n",
      "        Some college/university study without earning a bachelor's degree    48116.699754\n",
      "Male    Bachelor's degree                                                    57413.518034\n",
      "        Doctoral degree                                                      76872.602904\n",
      "        I never completed any formal education                               43090.588914\n",
      "        I prefer not to answer                                               37629.362623\n",
      "        Master's degree                                                      59156.503938\n",
      "        Primary/elementary school                                            63777.121965\n",
      "        Professional degree                                                  40901.083005\n",
      "        Secondary school                                                     41353.206724\n",
      "        Some college/university study without earning a bachelor's degree    57262.911063\n",
      "Name: Salary, dtype: float64\n"
     ]
    }
   ],
   "source": [
    "df_CS = df.dropna(subset = ['FormalEducation', 'Salary'], axis = 0)\n",
    "print(df_CS.groupby(['Gender', 'FormalEducation'])['Salary'].mean())"
   ]
  },
  {
   "cell_type": "code",
   "execution_count": 106,
   "metadata": {},
   "outputs": [
    {
     "name": "stdout",
     "output_type": "stream",
     "text": [
      "Gender  EmploymentStatus                                    \n",
      "Female  Employed full-time                                       1998\n",
      "        Employed part-time                                        167\n",
      "        I prefer not to say                                        28\n",
      "        Independent contractor, freelancer, or self-employed      164\n",
      "        Not employed, and not looking for work                     81\n",
      "        Not employed, but looking for work                        154\n",
      "        Retired                                                     8\n",
      "Male    Employed full-time                                      22940\n",
      "        Employed part-time                                       1817\n",
      "        I prefer not to say                                       350\n",
      "        Independent contractor, freelancer, or self-employed     3508\n",
      "        Not employed, and not looking for work                   1441\n",
      "        Not employed, but looking for work                       1447\n",
      "        Retired                                                    86\n",
      "Name: Respondent, dtype: int64\n"
     ]
    },
    {
     "data": {
      "text/plain": [
       "<matplotlib.axes._subplots.AxesSubplot at 0x26c82b4da08>"
      ]
     },
     "execution_count": 106,
     "metadata": {},
     "output_type": "execute_result"
    },
    {
     "data": {
      "image/png": "[encoded data removed]",
      "text/plain": [
       "<Figure size 432x288 with 1 Axes>"
      ]
     },
     "metadata": {
      "needs_background": "light"
     },
     "output_type": "display_data"
    }
   ],
   "source": [
    "df_CS = df.dropna(subset = [\"EmploymentStatus\"], axis = 0)\n",
    "print(df_CS.groupby(['Gender', 'EmploymentStatus'])['Respondent'].count())\n",
    "df_CS.groupby(['Gender', 'EmploymentStatus'])['Respondent'].count().plot()"
   ]
  },
  {
   "cell_type": "code",
   "execution_count": null,
   "metadata": {},
   "outputs": [],
   "source": []
  }
 ],
 "metadata": {
  "kernelspec": {
   "display_name": "Python 3",
   "language": "python",
   "name": "python3"
  },
  "language_info": {
   "codemirror_mode": {
    "name": "ipython",
    "version": 3
   },
   "file_extension": ".py",
   "mimetype": "text/x-python",
   "name": "python",
   "nbconvert_exporter": "python",
   "pygments_lexer": "ipython3",
   "version": "3.7.4"
  }
 },
 "nbformat": 4,
 "nbformat_minor": 2
}
