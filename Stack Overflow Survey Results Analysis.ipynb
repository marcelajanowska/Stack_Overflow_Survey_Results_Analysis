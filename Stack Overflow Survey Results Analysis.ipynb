{
 "cells": [
  {
   "cell_type": "markdown",
   "metadata": {},
   "source": [
    "This is a workbook analysing StackOverflow Yearly Survey Results"
   ]
  },
  {
   "cell_type": "code",
   "execution_count": 4,
   "metadata": {},
   "outputs": [],
   "source": [
    "# Loading libraries\n",
    "\n",
    "import pandas as pd\n",
    "import numpy as np\n",
    "import matplotlib as plt\n",
    "import seaborn as sns\n",
    "# %matplotlip inline\n",
    "\n",
    "from scipy.stats import ttest_ind # library to perform t-test"
   ]
  },
  {
   "cell_type": "code",
   "execution_count": 5,
   "metadata": {},
   "outputs": [
    {
     "data": {
      "text/plain": [
       "(51392, 154)"
      ]
     },
     "execution_count": 5,
     "metadata": {},
     "output_type": "execute_result"
    }
   ],
   "source": [
    "# loading data\n",
    "\n",
    "df = pd.read_csv('survey-results-public.csv')\n",
    "df.shape"
   ]
  },
  {
   "cell_type": "code",
   "execution_count": 6,
   "metadata": {},
   "outputs": [
    {
     "data": {
      "text/plain": [
       "(35047, 154)"
      ]
     },
     "execution_count": 6,
     "metadata": {},
     "output_type": "execute_result"
    }
   ],
   "source": [
    "# remove rows with no gender information\n",
    "\n",
    "df = df.dropna(subset = ['Gender'], axis = 0)\n",
    "df.shape"
   ]
  },
  {
   "cell_type": "code",
   "execution_count": 9,
   "metadata": {},
   "outputs": [],
   "source": [
    "# number of records by gender\n",
    "df['Gender'].value_counts()\n",
    "\n",
    "# re-categorise gender field to 'Male', 'Female' and 'Other'\n",
    "df['Gender'] = np.where(df.Gender == 'Male', 'Male', np.where(df.Gender == 'Female', 'Female', 'Others'))"
   ]
  },
  {
   "cell_type": "code",
   "execution_count": 14,
   "metadata": {},
   "outputs": [
    {
     "name": "stdout",
     "output_type": "stream",
     "text": [
      "Male      31589\n",
      "Female     2600\n",
      "Others      858\n",
      "Name: Gender, dtype: int64\n"
     ]
    },
    {
     "data": {
      "text/plain": [
       "<matplotlib.axes._subplots.AxesSubplot at 0x133a2f190c8>"
      ]
     },
     "execution_count": 14,
     "metadata": {},
     "output_type": "execute_result"
    },
    {
     "data": {
      "image/png": "[encoded data removed]",
      "text/plain": [
       "<Figure size 432x288 with 1 Axes>"
      ]
     },
     "metadata": {
      "needs_background": "light"
     },
     "output_type": "display_data"
    }
   ],
   "source": [
    "# Simple distribution of Gender Category\n",
    "print(df['Gender'].value_counts())\n",
    "\n",
    "(df['Gender'].value_counts()).plot(kind = 'barh')"
   ]
  },
  {
   "cell_type": "code",
   "execution_count": 15,
   "metadata": {},
   "outputs": [
    {
     "name": "stdout",
     "output_type": "stream",
     "text": [
      "The % of male survey respondenst was 0.9013324963620282\n",
      "The % of female survey respondenst was 0.0741860929608811\n"
     ]
    }
   ],
   "source": [
    "print(\"The % of male survey respondenst was {}\".format(sum(df.Gender == 'Male')/df.shape[0]))\n",
    "print(\"The % of female survey respondenst was {}\".format(sum(df.Gender == 'Female')/df.shape[0]))"
   ]
  },
  {
   "cell_type": "code",
   "execution_count": 64,
   "metadata": {},
   "outputs": [
    {
     "data": {
      "text/plain": [
       "Country             Gender\n",
       "United States       Male      7447\n",
       "United Kingdom      Male      2954\n",
       "Germany             Male      2740\n",
       "India               Male      2422\n",
       "Canada              Male      1446\n",
       "France              Male      1094\n",
       "United States       Female     847\n",
       "Poland              Male       806\n",
       "Australia           Male       634\n",
       "Netherlands         Male       598\n",
       "Russian Federation  Male       542\n",
       "Spain               Male       518\n",
       "Italy               Male       515\n",
       "Brazil              Male       491\n",
       "Sweden              Male       418\n",
       "Switzerland         Male       398\n",
       "Romania             Male       362\n",
       "Israel              Male       346\n",
       "Austria             Male       322\n",
       "Belgium             Male       287\n",
       "Name: Respondent, dtype: int64"
      ]
     },
     "execution_count": 64,
     "metadata": {},
     "output_type": "execute_result"
    }
   ],
   "source": [
    "df.groupby(['Country', 'Gender'])['Respondent'].count().sort_values( ascending = False)[:20]"
   ]
  },
  {
   "cell_type": "code",
   "execution_count": 53,
   "metadata": {},
   "outputs": [
    {
     "data": {
      "text/plain": [
       "Ttest_indResult(statistic=1.413235478252994, pvalue=0.1575974447262672)"
      ]
     },
     "execution_count": 53,
     "metadata": {},
     "output_type": "execute_result"
    }
   ],
   "source": [
    "df_JS = df.dropna(subset = ['JobSatisfaction'], axis = 0)\n",
    "df_JS.groupby('Gender')['JobSatisfaction'].mean()\n",
    "\n",
    "\n",
    "cat1 = df_JS[df_JS['Gender']=='Male']\n",
    "cat2 =df_JS[df_JS['Gender']=='Female']\n",
    "\n",
    "ttest_ind(cat1['JobSatisfaction'], cat2['JobSatisfaction'])\n",
    "# >>> (1.4927289925706944, 0.16970867501294376)"
   ]
  },
  {
   "cell_type": "code",
   "execution_count": 65,
   "metadata": {},
   "outputs": [
    {
     "name": "stdout",
     "output_type": "stream",
     "text": [
      "Gender\n",
      "Female    7.185069\n",
      "Male      7.394061\n",
      "Name: CareerSatisfaction, dtype: float64\n"
     ]
    },
    {
     "data": {
      "text/plain": [
       "Ttest_indResult(statistic=5.093512998370622, pvalue=3.536284963624364e-07)"
      ]
     },
     "execution_count": 65,
     "metadata": {},
     "output_type": "execute_result"
    }
   ],
   "source": [
    "df_CS = df.dropna(subset = ['CareerSatisfaction'], axis = 0)\n",
    "print(df_CS.groupby('Gender')['CareerSatisfaction'].mean())\n",
    "\n",
    "cat1 = df_CS[df_CS['Gender']=='Male']\n",
    "cat2 =df_CS[df_CS['Gender']=='Female']\n",
    "\n",
    "ttest_ind(cat1['CareerSatisfaction'], cat2['CareerSatisfaction'])"
   ]
  },
  {
   "cell_type": "code",
   "execution_count": 90,
   "metadata": {},
   "outputs": [
    {
     "data": {
      "text/plain": [
       "<matplotlib.axes._subplots.AxesSubplot at 0x26c82aabf48>"
      ]
     },
     "execution_count": 90,
     "metadata": {},
     "output_type": "execute_result"
    },
    {
     "data": {
      "image/png": "[encoded data removed]",
      "text/plain": [
       "<Figure size 432x288 with 1 Axes>"
      ]
     },
     "metadata": {
      "needs_background": "light"
     },
     "output_type": "display_data"
    }
   ],
   "source": [
    "x1 = df_CS.loc[df_CS.Gender == 'Male', 'CareerSatisfaction']\n",
    "x2 = df_CS.loc[df_CS.Gender == 'Female', 'CareerSatisfaction']\n",
    "# x3 = df.loc[df.cut=='Good', 'depth']\n",
    "\n",
    "# Draw the density plot\n",
    "sns.distplot(x1, hist = False, kde = True,kde_kws = {'linewidth': 3})\n",
    "sns.distplot(x2, hist = False, kde = True,kde_kws = {'linewidth': 3})"
   ]
  },
  {
   "cell_type": "code",
   "execution_count": 87,
   "metadata": {},
   "outputs": [
    {
     "data": {
      "text/plain": [
       "8         8.0\n",
       "10        8.0\n",
       "73       10.0\n",
       "111       7.0\n",
       "143       5.0\n",
       "         ... \n",
       "34113    10.0\n",
       "34121     7.0\n",
       "34150     8.0\n",
       "34159     8.0\n",
       "34183     7.0\n",
       "Name: CareerSatisfaction, Length: 2237, dtype: float64"
      ]
     },
     "execution_count": 87,
     "metadata": {},
     "output_type": "execute_result"
    }
   ],
   "source": [
    "x2"
   ]
  },
  {
   "cell_type": "code",
   "execution_count": 70,
   "metadata": {
    "scrolled": true
   },
   "outputs": [
    {
     "data": {
      "text/plain": [
       "<matplotlib.axes._subplots.AxesSubplot at 0x26c82222488>"
      ]
     },
     "execution_count": 70,
     "metadata": {},
     "output_type": "execute_result"
    },
    {
     "data": {
      "image/png": "[encoded data removed]",
      "text/plain": [
       "<Figure size 432x288 with 1 Axes>"
      ]
     },
     "metadata": {
      "needs_background": "light"
     },
     "output_type": "display_data"
    }
   ],
   "source": [
    "df_CS[df_CS['Gender']== 'Male']['JobSatisfaction'].hist()\n",
    "df_CS[df_CS['Gender']== 'Female']['JobSatisfaction'].hist()"
   ]
  },
  {
   "cell_type": "code",
   "execution_count": 91,
   "metadata": {},
   "outputs": [
    {
     "data": {
      "text/plain": [
       "<matplotlib.axes._subplots.AxesSubplot at 0x26c82b0af88>"
      ]
     },
     "execution_count": 91,
     "metadata": {},
     "output_type": "execute_result"
    },
    {
     "data": {
      "image/png": "[encoded data removed]",
      "text/plain": [
       "<Figure size 432x288 with 1 Axes>"
      ]
     },
     "metadata": {
      "needs_background": "light"
     },
     "output_type": "display_data"
    }
   ],
   "source": [
    "df_CS[df_CS['Gender']== 'Female']['JobSatisfaction'].hist()"
   ]
  },
  {
   "cell_type": "code",
   "execution_count": 96,
   "metadata": {},
   "outputs": [
    {
     "name": "stdout",
     "output_type": "stream",
     "text": [
      "Gender\n",
      "Female    58083.924534\n",
      "Male      56996.494293\n",
      "Name: Salary, dtype: float64\n"
     ]
    },
    {
     "data": {
      "text/plain": [
       "Ttest_indResult(statistic=-0.7564769929054644, pvalue=0.4493787807516285)"
      ]
     },
     "execution_count": 96,
     "metadata": {},
     "output_type": "execute_result"
    }
   ],
   "source": [
    "df_CS = df.dropna(subset = ['Salary'], axis = 0)\n",
    "print(df_CS.groupby('Gender')['Salary'].mean())\n",
    "\n",
    "cat1 = df_CS[df_CS['Gender']=='Male']\n",
    "cat2 =df_CS[df_CS['Gender']=='Female']\n",
    "\n",
    "ttest_ind(cat1['Salary'], cat2['Salary'])"
   ]
  },
  {
   "cell_type": "code",
   "execution_count": 101,
   "metadata": {},
   "outputs": [
    {
     "name": "stdout",
     "output_type": "stream",
     "text": [
      "Gender  FormalEducation                                                  \n",
      "Female  Bachelor's degree                                                    6.988596\n",
      "        Doctoral degree                                                      7.387097\n",
      "        I never completed any formal education                               4.500000\n",
      "        I prefer not to answer                                               6.500000\n",
      "        Master's degree                                                      6.765650\n",
      "        Primary/elementary school                                            6.000000\n",
      "        Professional degree                                                  6.851852\n",
      "        Secondary school                                                     6.978723\n",
      "        Some college/university study without earning a bachelor's degree    7.021390\n",
      "Male    Bachelor's degree                                                    6.910739\n",
      "        Doctoral degree                                                      7.337662\n",
      "        I never completed any formal education                               7.375000\n",
      "        I prefer not to answer                                               6.920000\n",
      "        Master's degree                                                      7.012021\n",
      "        Primary/elementary school                                            7.013514\n",
      "        Professional degree                                                  7.173913\n",
      "        Secondary school                                                     7.182182\n",
      "        Some college/university study without earning a bachelor's degree    7.103134\n",
      "Name: JobSatisfaction, dtype: float64\n"
     ]
    }
   ],
   "source": [
    "df_CS = df.dropna(subset = ['FormalEducation', 'JobSatisfaction'], axis = 0)\n",
    "print(df_CS.groupby(['Gender', 'FormalEducation'])['JobSatisfaction'].mean())"
   ]
  },
  {
   "cell_type": "code",
   "execution_count": 102,
   "metadata": {},
   "outputs": [
    {
     "name": "stdout",
     "output_type": "stream",
     "text": [
      "Gender  FormalEducation                                                  \n",
      "Female  Bachelor's degree                                                    60040.908291\n",
      "        Doctoral degree                                                      90623.768006\n",
      "        I prefer not to answer                                               13255.786387\n",
      "        Master's degree                                                      56210.867588\n",
      "        Primary/elementary school                                            32258.064516\n",
      "        Professional degree                                                  45458.307618\n",
      "        Secondary school                                                     41110.162320\n",
      "        Some college/university study without earning a bachelor's degree    48116.699754\n",
      "Male    Bachelor's degree                                                    57413.518034\n",
      "        Doctoral degree                                                      76872.602904\n",
      "        I never completed any formal education                               43090.588914\n",
      "        I prefer not to answer                                               37629.362623\n",
      "        Master's degree                                                      59156.503938\n",
      "        Primary/elementary school                                            63777.121965\n",
      "        Professional degree                                                  40901.083005\n",
      "        Secondary school                                                     41353.206724\n",
      "        Some college/university study without earning a bachelor's degree    57262.911063\n",
      "Name: Salary, dtype: float64\n"
     ]
    }
   ],
   "source": [
    "df_CS = df.dropna(subset = ['FormalEducation', 'Salary'], axis = 0)\n",
    "print(df_CS.groupby(['Gender', 'FormalEducation'])['Salary'].mean())"
   ]
  },
  {
   "cell_type": "code",
   "execution_count": 106,
   "metadata": {},
   "outputs": [
    {
     "name": "stdout",
     "output_type": "stream",
     "text": [
      "Gender  EmploymentStatus                                    \n",
      "Female  Employed full-time                                       1998\n",
      "        Employed part-time                                        167\n",
      "        I prefer not to say                                        28\n",
      "        Independent contractor, freelancer, or self-employed      164\n",
      "        Not employed, and not looking for work                     81\n",
      "        Not employed, but looking for work                        154\n",
      "        Retired                                                     8\n",
      "Male    Employed full-time                                      22940\n",
      "        Employed part-time                                       1817\n",
      "        I prefer not to say                                       350\n",
      "        Independent contractor, freelancer, or self-employed     3508\n",
      "        Not employed, and not looking for work                   1441\n",
      "        Not employed, but looking for work                       1447\n",
      "        Retired                                                    86\n",
      "Name: Respondent, dtype: int64\n"
     ]
    },
    {
     "data": {
      "text/plain": [
       "<matplotlib.axes._subplots.AxesSubplot at 0x26c82b4da08>"
      ]
     },
     "execution_count": 106,
     "metadata": {},
     "output_type": "execute_result"
    },
    {
     "data": {
      "image/png": "[encoded data removed]",
      "text/plain": [
       "<Figure size 432x288 with 1 Axes>"
      ]
     },
     "metadata": {
      "needs_background": "light"
     },
     "output_type": "display_data"
    }
   ],
   "source": [
    "df_CS = df.dropna(subset = [\"EmploymentStatus\"], axis = 0)\n",
    "print(df_CS.groupby(['Gender', 'EmploymentStatus'])['Respondent'].count())\n",
    "df_CS.groupby(['Gender', 'EmploymentStatus'])['Respondent'].count().plot()"
   ]
  },
  {
   "cell_type": "code",
   "execution_count": null,
   "metadata": {},
   "outputs": [],
   "source": []
  }
 ],
 "metadata": {
  "kernelspec": {
   "display_name": "Python 3",
   "language": "python",
   "name": "python3"
  },
  "language_info": {
   "codemirror_mode": {
    "name": "ipython",
    "version": 3
   },
   "file_extension": ".py",
   "mimetype": "text/x-python",
   "name": "python",
   "nbconvert_exporter": "python",
   "pygments_lexer": "ipython3",
   "version": "3.7.4"
  }
 },
 "nbformat": 4,
 "nbformat_minor": 2
}
