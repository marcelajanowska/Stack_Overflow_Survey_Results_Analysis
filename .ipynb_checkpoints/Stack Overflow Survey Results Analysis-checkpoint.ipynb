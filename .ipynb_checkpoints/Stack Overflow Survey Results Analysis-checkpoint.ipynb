{
 "cells": [
  {
   "cell_type": "markdown",
   "metadata": {},
   "source": [
    "This is a workbook analysing StackOverflow Yearly Survey Results"
   ]
  },
  {
   "cell_type": "code",
   "execution_count": 90,
   "metadata": {},
   "outputs": [],
   "source": [
    "# Loading libraries\n",
    "\n",
    "import pandas as pd\n",
    "import numpy as np\n",
    "import matplotlib as plt\n",
    "import seaborn as sns\n",
    "# %matplotlip inline\n",
    "\n",
    "# libraries\n",
    "import numpy as np\n",
    "import matplotlib.pyplot as plt\n",
    "\n",
    "\n",
    "from scipy.stats import ttest_ind # library to perform t-test"
   ]
  },
  {
   "cell_type": "code",
   "execution_count": 91,
   "metadata": {},
   "outputs": [
    {
     "data": {
      "text/plain": [
       "(51392, 154)"
      ]
     },
     "execution_count": 91,
     "metadata": {},
     "output_type": "execute_result"
    }
   ],
   "source": [
    "# loading data\n",
    "\n",
    "df = pd.read_csv('survey-results-public.csv')\n",
    "df.shape"
   ]
  },
  {
   "cell_type": "code",
   "execution_count": 3,
   "metadata": {},
   "outputs": [
    {
     "data": {
      "text/plain": [
       "(35047, 154)"
      ]
     },
     "execution_count": 3,
     "metadata": {},
     "output_type": "execute_result"
    }
   ],
   "source": [
    "# remove rows with no gender information\n",
    "\n",
    "df = df.dropna(subset = ['Gender'], axis = 0)\n",
    "df.shape"
   ]
  },
  {
   "cell_type": "markdown",
   "metadata": {},
   "source": [
    "## EDA Gender"
   ]
  },
  {
   "cell_type": "code",
   "execution_count": 4,
   "metadata": {},
   "outputs": [],
   "source": [
    "# number of records by gender\n",
    "df['Gender'].value_counts()\n",
    "\n",
    "# re-categorise gender field to 'Male', 'Female' and 'Other'\n",
    "df['Gender'] = np.where(df.Gender == 'Male', 'Male', np.where(df.Gender == 'Female', 'Female', 'Others'))"
   ]
  },
  {
   "cell_type": "code",
   "execution_count": 30,
   "metadata": {
    "scrolled": false
   },
   "outputs": [
    {
     "name": "stdout",
     "output_type": "stream",
     "text": [
      "Male      31589\n",
      "Female     2600\n",
      "Others      858\n",
      "Name: Gender, dtype: int64\n",
      "Male      0.901332\n",
      "Female    0.074186\n",
      "Others    0.024481\n",
      "Name: Gender, dtype: float64\n"
     ]
    },
    {
     "data": {
      "text/plain": [
       "<matplotlib.axes._subplots.AxesSubplot at 0x1e2eb1fe888>"
      ]
     },
     "execution_count": 30,
     "metadata": {},
     "output_type": "execute_result"
    },
    {
     "data": {
      "image/png": "[encoded data removed]",
      "text/plain": [
       "<Figure size 432x288 with 1 Axes>"
      ]
     },
     "metadata": {
      "needs_background": "light"
     },
     "output_type": "display_data"
    }
   ],
   "source": [
    "# Simple distribution of Gender Category\n",
    "print(df['Gender'].value_counts())\n",
    "print(df['Gender'].value_counts()/df.shape[0])\n",
    "\n",
    "(df['Gender'].value_counts()).plot(kind = 'barh', color='#557f2d', title = \"Number of respondents by gender\")"
   ]
  },
  {
   "cell_type": "code",
   "execution_count": 6,
   "metadata": {},
   "outputs": [
    {
     "name": "stdout",
     "output_type": "stream",
     "text": [
      "The % of male survey respondents was 0.90\n",
      "The % of female survey respondenst was 0.07\n"
     ]
    }
   ],
   "source": [
    "print(\"The % of male survey respondents was {:.2f}\".format(sum(df.Gender == 'Male')/df.shape[0]))\n",
    "print(\"The % of female survey respondenst was {:.2f}\".format(sum(df.Gender == 'Female')/df.shape[0]))"
   ]
  },
  {
   "cell_type": "markdown",
   "metadata": {},
   "source": [
    "## Female Rate by Country"
   ]
  },
  {
   "cell_type": "code",
   "execution_count": 7,
   "metadata": {},
   "outputs": [
    {
     "name": "stdout",
     "output_type": "stream",
     "text": [
      "Male      24053\n",
      "Female     2068\n",
      "Others      654\n",
      "Name: Gender, dtype: int64\n"
     ]
    }
   ],
   "source": [
    "#  selecting only countries with at least 1% of all respondents\n",
    "\n",
    "df_countries = ((df.groupby(['Country'])['Respondent'].count().sort_values(ascending = False)/df.shape[0])>=.01).reset_index()\n",
    "df_countries = df_countries[df_countries.Respondent == True]\n",
    "\n",
    "# create a df with only a subset of countries\n",
    "list_countries = list(df_countries.iloc[:, 0])\n",
    "\n",
    "subset_df = df[df['Country'].isin(list_countries)]\n",
    "\n",
    "# print the count by gender\n",
    "print(subset_df['Gender'].value_counts())"
   ]
  },
  {
   "cell_type": "code",
   "execution_count": 34,
   "metadata": {
    "scrolled": false
   },
   "outputs": [
    {
     "data": {
      "text/plain": [
       "<matplotlib.axes._subplots.AxesSubplot at 0x1e2eb43aec8>"
      ]
     },
     "execution_count": 34,
     "metadata": {},
     "output_type": "execute_result"
    },
    {
     "data": {
      "image/png": "[encoded data removed]",
      "text/plain": [
       "<Figure size 864x576 with 1 Axes>"
      ]
     },
     "metadata": {
      "needs_background": "light"
     },
     "output_type": "display_data"
    }
   ],
   "source": [
    "subset_df.groupby(['Country'])['Respondent'].count().sort_values().plot(kind = \"barh\", figsize = (12,8), color='#557f2d')"
   ]
  },
  {
   "cell_type": "code",
   "execution_count": 9,
   "metadata": {},
   "outputs": [
    {
     "data": {
      "text/html": [
       "<div>\n",
       "<style scoped>\n",
       "    .dataframe tbody tr th:only-of-type {\n",
       "        vertical-align: middle;\n",
       "    }\n",
       "\n",
       "    .dataframe tbody tr th {\n",
       "        vertical-align: top;\n",
       "    }\n",
       "\n",
       "    .dataframe thead th {\n",
       "        text-align: right;\n",
       "    }\n",
       "</style>\n",
       "<table border=\"1\" class=\"dataframe\">\n",
       "  <thead>\n",
       "    <tr style=\"text-align: right;\">\n",
       "      <th></th>\n",
       "      <th>Country</th>\n",
       "      <th>Gender</th>\n",
       "      <th>Respondent</th>\n",
       "    </tr>\n",
       "  </thead>\n",
       "  <tbody>\n",
       "    <tr>\n",
       "      <td>0</td>\n",
       "      <td>Australia</td>\n",
       "      <td>Female</td>\n",
       "      <td>0.056980</td>\n",
       "    </tr>\n",
       "    <tr>\n",
       "      <td>1</td>\n",
       "      <td>Australia</td>\n",
       "      <td>Male</td>\n",
       "      <td>0.903134</td>\n",
       "    </tr>\n",
       "    <tr>\n",
       "      <td>2</td>\n",
       "      <td>Australia</td>\n",
       "      <td>Others</td>\n",
       "      <td>0.039886</td>\n",
       "    </tr>\n",
       "    <tr>\n",
       "      <td>3</td>\n",
       "      <td>Austria</td>\n",
       "      <td>Female</td>\n",
       "      <td>0.064246</td>\n",
       "    </tr>\n",
       "    <tr>\n",
       "      <td>4</td>\n",
       "      <td>Austria</td>\n",
       "      <td>Male</td>\n",
       "      <td>0.899441</td>\n",
       "    </tr>\n",
       "    <tr>\n",
       "      <td>5</td>\n",
       "      <td>Austria</td>\n",
       "      <td>Others</td>\n",
       "      <td>0.036313</td>\n",
       "    </tr>\n",
       "    <tr>\n",
       "      <td>6</td>\n",
       "      <td>Brazil</td>\n",
       "      <td>Female</td>\n",
       "      <td>0.047801</td>\n",
       "    </tr>\n",
       "    <tr>\n",
       "      <td>7</td>\n",
       "      <td>Brazil</td>\n",
       "      <td>Male</td>\n",
       "      <td>0.938815</td>\n",
       "    </tr>\n",
       "    <tr>\n",
       "      <td>8</td>\n",
       "      <td>Brazil</td>\n",
       "      <td>Others</td>\n",
       "      <td>0.013384</td>\n",
       "    </tr>\n",
       "    <tr>\n",
       "      <td>9</td>\n",
       "      <td>Canada</td>\n",
       "      <td>Female</td>\n",
       "      <td>0.092025</td>\n",
       "    </tr>\n",
       "    <tr>\n",
       "      <td>10</td>\n",
       "      <td>Canada</td>\n",
       "      <td>Male</td>\n",
       "      <td>0.887117</td>\n",
       "    </tr>\n",
       "    <tr>\n",
       "      <td>11</td>\n",
       "      <td>Canada</td>\n",
       "      <td>Others</td>\n",
       "      <td>0.020859</td>\n",
       "    </tr>\n",
       "    <tr>\n",
       "      <td>12</td>\n",
       "      <td>France</td>\n",
       "      <td>Female</td>\n",
       "      <td>0.054054</td>\n",
       "    </tr>\n",
       "    <tr>\n",
       "      <td>13</td>\n",
       "      <td>France</td>\n",
       "      <td>Male</td>\n",
       "      <td>0.923986</td>\n",
       "    </tr>\n",
       "    <tr>\n",
       "      <td>14</td>\n",
       "      <td>France</td>\n",
       "      <td>Others</td>\n",
       "      <td>0.021959</td>\n",
       "    </tr>\n",
       "    <tr>\n",
       "      <td>15</td>\n",
       "      <td>Germany</td>\n",
       "      <td>Female</td>\n",
       "      <td>0.051654</td>\n",
       "    </tr>\n",
       "    <tr>\n",
       "      <td>16</td>\n",
       "      <td>Germany</td>\n",
       "      <td>Male</td>\n",
       "      <td>0.925051</td>\n",
       "    </tr>\n",
       "    <tr>\n",
       "      <td>17</td>\n",
       "      <td>Germany</td>\n",
       "      <td>Others</td>\n",
       "      <td>0.023295</td>\n",
       "    </tr>\n",
       "    <tr>\n",
       "      <td>18</td>\n",
       "      <td>India</td>\n",
       "      <td>Female</td>\n",
       "      <td>0.086078</td>\n",
       "    </tr>\n",
       "    <tr>\n",
       "      <td>19</td>\n",
       "      <td>India</td>\n",
       "      <td>Male</td>\n",
       "      <td>0.906437</td>\n",
       "    </tr>\n",
       "    <tr>\n",
       "      <td>20</td>\n",
       "      <td>India</td>\n",
       "      <td>Others</td>\n",
       "      <td>0.007485</td>\n",
       "    </tr>\n",
       "    <tr>\n",
       "      <td>21</td>\n",
       "      <td>Israel</td>\n",
       "      <td>Female</td>\n",
       "      <td>0.102041</td>\n",
       "    </tr>\n",
       "    <tr>\n",
       "      <td>22</td>\n",
       "      <td>Israel</td>\n",
       "      <td>Male</td>\n",
       "      <td>0.882653</td>\n",
       "    </tr>\n",
       "    <tr>\n",
       "      <td>23</td>\n",
       "      <td>Israel</td>\n",
       "      <td>Others</td>\n",
       "      <td>0.015306</td>\n",
       "    </tr>\n",
       "    <tr>\n",
       "      <td>24</td>\n",
       "      <td>Italy</td>\n",
       "      <td>Female</td>\n",
       "      <td>0.029795</td>\n",
       "    </tr>\n",
       "    <tr>\n",
       "      <td>25</td>\n",
       "      <td>Italy</td>\n",
       "      <td>Male</td>\n",
       "      <td>0.959032</td>\n",
       "    </tr>\n",
       "    <tr>\n",
       "      <td>26</td>\n",
       "      <td>Italy</td>\n",
       "      <td>Others</td>\n",
       "      <td>0.011173</td>\n",
       "    </tr>\n",
       "    <tr>\n",
       "      <td>27</td>\n",
       "      <td>Netherlands</td>\n",
       "      <td>Female</td>\n",
       "      <td>0.045526</td>\n",
       "    </tr>\n",
       "    <tr>\n",
       "      <td>28</td>\n",
       "      <td>Netherlands</td>\n",
       "      <td>Male</td>\n",
       "      <td>0.938776</td>\n",
       "    </tr>\n",
       "    <tr>\n",
       "      <td>29</td>\n",
       "      <td>Netherlands</td>\n",
       "      <td>Others</td>\n",
       "      <td>0.015699</td>\n",
       "    </tr>\n",
       "    <tr>\n",
       "      <td>30</td>\n",
       "      <td>Poland</td>\n",
       "      <td>Female</td>\n",
       "      <td>0.105038</td>\n",
       "    </tr>\n",
       "    <tr>\n",
       "      <td>31</td>\n",
       "      <td>Poland</td>\n",
       "      <td>Male</td>\n",
       "      <td>0.863880</td>\n",
       "    </tr>\n",
       "    <tr>\n",
       "      <td>32</td>\n",
       "      <td>Poland</td>\n",
       "      <td>Others</td>\n",
       "      <td>0.031083</td>\n",
       "    </tr>\n",
       "    <tr>\n",
       "      <td>33</td>\n",
       "      <td>Romania</td>\n",
       "      <td>Female</td>\n",
       "      <td>0.071960</td>\n",
       "    </tr>\n",
       "    <tr>\n",
       "      <td>34</td>\n",
       "      <td>Romania</td>\n",
       "      <td>Male</td>\n",
       "      <td>0.898263</td>\n",
       "    </tr>\n",
       "    <tr>\n",
       "      <td>35</td>\n",
       "      <td>Romania</td>\n",
       "      <td>Others</td>\n",
       "      <td>0.029777</td>\n",
       "    </tr>\n",
       "    <tr>\n",
       "      <td>36</td>\n",
       "      <td>Russian Federation</td>\n",
       "      <td>Female</td>\n",
       "      <td>0.052453</td>\n",
       "    </tr>\n",
       "    <tr>\n",
       "      <td>37</td>\n",
       "      <td>Russian Federation</td>\n",
       "      <td>Male</td>\n",
       "      <td>0.917090</td>\n",
       "    </tr>\n",
       "    <tr>\n",
       "      <td>38</td>\n",
       "      <td>Russian Federation</td>\n",
       "      <td>Others</td>\n",
       "      <td>0.030457</td>\n",
       "    </tr>\n",
       "    <tr>\n",
       "      <td>39</td>\n",
       "      <td>Spain</td>\n",
       "      <td>Female</td>\n",
       "      <td>0.071804</td>\n",
       "    </tr>\n",
       "    <tr>\n",
       "      <td>40</td>\n",
       "      <td>Spain</td>\n",
       "      <td>Male</td>\n",
       "      <td>0.907180</td>\n",
       "    </tr>\n",
       "    <tr>\n",
       "      <td>41</td>\n",
       "      <td>Spain</td>\n",
       "      <td>Others</td>\n",
       "      <td>0.021016</td>\n",
       "    </tr>\n",
       "    <tr>\n",
       "      <td>42</td>\n",
       "      <td>Sweden</td>\n",
       "      <td>Female</td>\n",
       "      <td>0.040179</td>\n",
       "    </tr>\n",
       "    <tr>\n",
       "      <td>43</td>\n",
       "      <td>Sweden</td>\n",
       "      <td>Male</td>\n",
       "      <td>0.933036</td>\n",
       "    </tr>\n",
       "    <tr>\n",
       "      <td>44</td>\n",
       "      <td>Sweden</td>\n",
       "      <td>Others</td>\n",
       "      <td>0.026786</td>\n",
       "    </tr>\n",
       "    <tr>\n",
       "      <td>45</td>\n",
       "      <td>Switzerland</td>\n",
       "      <td>Female</td>\n",
       "      <td>0.030445</td>\n",
       "    </tr>\n",
       "    <tr>\n",
       "      <td>46</td>\n",
       "      <td>Switzerland</td>\n",
       "      <td>Male</td>\n",
       "      <td>0.932084</td>\n",
       "    </tr>\n",
       "    <tr>\n",
       "      <td>47</td>\n",
       "      <td>Switzerland</td>\n",
       "      <td>Others</td>\n",
       "      <td>0.037471</td>\n",
       "    </tr>\n",
       "    <tr>\n",
       "      <td>48</td>\n",
       "      <td>United Kingdom</td>\n",
       "      <td>Female</td>\n",
       "      <td>0.067812</td>\n",
       "    </tr>\n",
       "    <tr>\n",
       "      <td>49</td>\n",
       "      <td>United Kingdom</td>\n",
       "      <td>Male</td>\n",
       "      <td>0.906413</td>\n",
       "    </tr>\n",
       "    <tr>\n",
       "      <td>50</td>\n",
       "      <td>United Kingdom</td>\n",
       "      <td>Others</td>\n",
       "      <td>0.025775</td>\n",
       "    </tr>\n",
       "    <tr>\n",
       "      <td>51</td>\n",
       "      <td>United States</td>\n",
       "      <td>Female</td>\n",
       "      <td>0.099111</td>\n",
       "    </tr>\n",
       "    <tr>\n",
       "      <td>52</td>\n",
       "      <td>United States</td>\n",
       "      <td>Male</td>\n",
       "      <td>0.871402</td>\n",
       "    </tr>\n",
       "    <tr>\n",
       "      <td>53</td>\n",
       "      <td>United States</td>\n",
       "      <td>Others</td>\n",
       "      <td>0.029487</td>\n",
       "    </tr>\n",
       "  </tbody>\n",
       "</table>\n",
       "</div>"
      ],
      "text/plain": [
       "               Country  Gender  Respondent\n",
       "0            Australia  Female    0.056980\n",
       "1            Australia    Male    0.903134\n",
       "2            Australia  Others    0.039886\n",
       "3              Austria  Female    0.064246\n",
       "4              Austria    Male    0.899441\n",
       "5              Austria  Others    0.036313\n",
       "6               Brazil  Female    0.047801\n",
       "7               Brazil    Male    0.938815\n",
       "8               Brazil  Others    0.013384\n",
       "9               Canada  Female    0.092025\n",
       "10              Canada    Male    0.887117\n",
       "11              Canada  Others    0.020859\n",
       "12              France  Female    0.054054\n",
       "13              France    Male    0.923986\n",
       "14              France  Others    0.021959\n",
       "15             Germany  Female    0.051654\n",
       "16             Germany    Male    0.925051\n",
       "17             Germany  Others    0.023295\n",
       "18               India  Female    0.086078\n",
       "19               India    Male    0.906437\n",
       "20               India  Others    0.007485\n",
       "21              Israel  Female    0.102041\n",
       "22              Israel    Male    0.882653\n",
       "23              Israel  Others    0.015306\n",
       "24               Italy  Female    0.029795\n",
       "25               Italy    Male    0.959032\n",
       "26               Italy  Others    0.011173\n",
       "27         Netherlands  Female    0.045526\n",
       "28         Netherlands    Male    0.938776\n",
       "29         Netherlands  Others    0.015699\n",
       "30              Poland  Female    0.105038\n",
       "31              Poland    Male    0.863880\n",
       "32              Poland  Others    0.031083\n",
       "33             Romania  Female    0.071960\n",
       "34             Romania    Male    0.898263\n",
       "35             Romania  Others    0.029777\n",
       "36  Russian Federation  Female    0.052453\n",
       "37  Russian Federation    Male    0.917090\n",
       "38  Russian Federation  Others    0.030457\n",
       "39               Spain  Female    0.071804\n",
       "40               Spain    Male    0.907180\n",
       "41               Spain  Others    0.021016\n",
       "42              Sweden  Female    0.040179\n",
       "43              Sweden    Male    0.933036\n",
       "44              Sweden  Others    0.026786\n",
       "45         Switzerland  Female    0.030445\n",
       "46         Switzerland    Male    0.932084\n",
       "47         Switzerland  Others    0.037471\n",
       "48      United Kingdom  Female    0.067812\n",
       "49      United Kingdom    Male    0.906413\n",
       "50      United Kingdom  Others    0.025775\n",
       "51       United States  Female    0.099111\n",
       "52       United States    Male    0.871402\n",
       "53       United States  Others    0.029487"
      ]
     },
     "execution_count": 9,
     "metadata": {},
     "output_type": "execute_result"
    }
   ],
   "source": [
    "# Country and Gender and % of total\n",
    "groups = subset_df.groupby(['Country', 'Gender'])['Respondent'].count()/subset_df.groupby(['Country'])['Respondent'].count()\n",
    "groups = groups.reset_index()\n",
    "groups"
   ]
  },
  {
   "cell_type": "code",
   "execution_count": 10,
   "metadata": {},
   "outputs": [
    {
     "data": {
      "text/html": [
       "<div>\n",
       "<style scoped>\n",
       "    .dataframe tbody tr th:only-of-type {\n",
       "        vertical-align: middle;\n",
       "    }\n",
       "\n",
       "    .dataframe tbody tr th {\n",
       "        vertical-align: top;\n",
       "    }\n",
       "\n",
       "    .dataframe thead th {\n",
       "        text-align: right;\n",
       "    }\n",
       "</style>\n",
       "<table border=\"1\" class=\"dataframe\">\n",
       "  <thead>\n",
       "    <tr style=\"text-align: right;\">\n",
       "      <th></th>\n",
       "      <th>Country</th>\n",
       "      <th>Gender</th>\n",
       "      <th>Respondent</th>\n",
       "    </tr>\n",
       "  </thead>\n",
       "  <tbody>\n",
       "    <tr>\n",
       "      <td>30</td>\n",
       "      <td>Poland</td>\n",
       "      <td>Female</td>\n",
       "      <td>0.105038</td>\n",
       "    </tr>\n",
       "    <tr>\n",
       "      <td>21</td>\n",
       "      <td>Israel</td>\n",
       "      <td>Female</td>\n",
       "      <td>0.102041</td>\n",
       "    </tr>\n",
       "    <tr>\n",
       "      <td>51</td>\n",
       "      <td>United States</td>\n",
       "      <td>Female</td>\n",
       "      <td>0.099111</td>\n",
       "    </tr>\n",
       "    <tr>\n",
       "      <td>9</td>\n",
       "      <td>Canada</td>\n",
       "      <td>Female</td>\n",
       "      <td>0.092025</td>\n",
       "    </tr>\n",
       "    <tr>\n",
       "      <td>18</td>\n",
       "      <td>India</td>\n",
       "      <td>Female</td>\n",
       "      <td>0.086078</td>\n",
       "    </tr>\n",
       "    <tr>\n",
       "      <td>33</td>\n",
       "      <td>Romania</td>\n",
       "      <td>Female</td>\n",
       "      <td>0.071960</td>\n",
       "    </tr>\n",
       "    <tr>\n",
       "      <td>39</td>\n",
       "      <td>Spain</td>\n",
       "      <td>Female</td>\n",
       "      <td>0.071804</td>\n",
       "    </tr>\n",
       "    <tr>\n",
       "      <td>48</td>\n",
       "      <td>United Kingdom</td>\n",
       "      <td>Female</td>\n",
       "      <td>0.067812</td>\n",
       "    </tr>\n",
       "    <tr>\n",
       "      <td>3</td>\n",
       "      <td>Austria</td>\n",
       "      <td>Female</td>\n",
       "      <td>0.064246</td>\n",
       "    </tr>\n",
       "    <tr>\n",
       "      <td>0</td>\n",
       "      <td>Australia</td>\n",
       "      <td>Female</td>\n",
       "      <td>0.056980</td>\n",
       "    </tr>\n",
       "    <tr>\n",
       "      <td>12</td>\n",
       "      <td>France</td>\n",
       "      <td>Female</td>\n",
       "      <td>0.054054</td>\n",
       "    </tr>\n",
       "    <tr>\n",
       "      <td>36</td>\n",
       "      <td>Russian Federation</td>\n",
       "      <td>Female</td>\n",
       "      <td>0.052453</td>\n",
       "    </tr>\n",
       "    <tr>\n",
       "      <td>15</td>\n",
       "      <td>Germany</td>\n",
       "      <td>Female</td>\n",
       "      <td>0.051654</td>\n",
       "    </tr>\n",
       "    <tr>\n",
       "      <td>6</td>\n",
       "      <td>Brazil</td>\n",
       "      <td>Female</td>\n",
       "      <td>0.047801</td>\n",
       "    </tr>\n",
       "    <tr>\n",
       "      <td>27</td>\n",
       "      <td>Netherlands</td>\n",
       "      <td>Female</td>\n",
       "      <td>0.045526</td>\n",
       "    </tr>\n",
       "    <tr>\n",
       "      <td>42</td>\n",
       "      <td>Sweden</td>\n",
       "      <td>Female</td>\n",
       "      <td>0.040179</td>\n",
       "    </tr>\n",
       "    <tr>\n",
       "      <td>45</td>\n",
       "      <td>Switzerland</td>\n",
       "      <td>Female</td>\n",
       "      <td>0.030445</td>\n",
       "    </tr>\n",
       "    <tr>\n",
       "      <td>24</td>\n",
       "      <td>Italy</td>\n",
       "      <td>Female</td>\n",
       "      <td>0.029795</td>\n",
       "    </tr>\n",
       "  </tbody>\n",
       "</table>\n",
       "</div>"
      ],
      "text/plain": [
       "               Country  Gender  Respondent\n",
       "30              Poland  Female    0.105038\n",
       "21              Israel  Female    0.102041\n",
       "51       United States  Female    0.099111\n",
       "9               Canada  Female    0.092025\n",
       "18               India  Female    0.086078\n",
       "33             Romania  Female    0.071960\n",
       "39               Spain  Female    0.071804\n",
       "48      United Kingdom  Female    0.067812\n",
       "3              Austria  Female    0.064246\n",
       "0            Australia  Female    0.056980\n",
       "12              France  Female    0.054054\n",
       "36  Russian Federation  Female    0.052453\n",
       "15             Germany  Female    0.051654\n",
       "6               Brazil  Female    0.047801\n",
       "27         Netherlands  Female    0.045526\n",
       "42              Sweden  Female    0.040179\n",
       "45         Switzerland  Female    0.030445\n",
       "24               Italy  Female    0.029795"
      ]
     },
     "execution_count": 10,
     "metadata": {},
     "output_type": "execute_result"
    }
   ],
   "source": [
    "groups[groups.Gender == 'Female'].sort_values(by = 'Respondent', ascending = False)"
   ]
  },
  {
   "cell_type": "code",
   "execution_count": 35,
   "metadata": {},
   "outputs": [
    {
     "data": {
      "text/plain": [
       "<matplotlib.axes._subplots.AxesSubplot at 0x1e2eb504b88>"
      ]
     },
     "execution_count": 35,
     "metadata": {},
     "output_type": "execute_result"
    },
    {
     "data": {
      "image/png": "[encoded data removed]",
      "text/plain": [
       "<Figure size 864x576 with 1 Axes>"
      ]
     },
     "metadata": {
      "needs_background": "light"
     },
     "output_type": "display_data"
    }
   ],
   "source": [
    "# female respondents as a proportion of all respondents in a country\n",
    "groups[groups.Gender == 'Female'].sort_values(by = 'Respondent').set_index('Country').plot(kind = 'barh', figsize = (12,8), color='#557f2d', title = \"Proportion of Female Respondents by Country\")"
   ]
  },
  {
   "cell_type": "code",
   "execution_count": 12,
   "metadata": {},
   "outputs": [
    {
     "data": {
      "image/png": "[encoded data removed]",
      "text/plain": [
       "<Figure size 1440x576 with 1 Axes>"
      ]
     },
     "metadata": {
      "needs_background": "light"
     },
     "output_type": "display_data"
    }
   ],
   "source": [
    "plt.figure(figsize=(20,8))\n",
    " \n",
    "# set width of bar\n",
    "barWidth = 0.25\n",
    " \n",
    "# set height of bar\n",
    "bars1 = list(groups[groups.Gender == 'Female']['Respondent'])\n",
    "bars2 = list(groups[groups.Gender == 'Male']['Respondent'])\n",
    " \n",
    "# Set position of bar on X axis\n",
    "r1 = np.arange(len(bars1))\n",
    "r2 = [x + barWidth for x in r1]\n",
    " \n",
    "# Make the plot\n",
    "plt.bar(r1, bars1, color='#7f6d5f', width=barWidth, edgecolor='white', label='Female')\n",
    "plt.bar(r2, bars2, color='#557f2d', width=barWidth, edgecolor='white', label='Male')\n",
    " \n",
    "# Add xticks on the middle of the group bars\n",
    "plt.xlabel('group', fontweight='bold')\n",
    "plt.xticks([r + barWidth for r in range(len(bars1))], sorted(list(set(groups['Country']))))\n",
    " \n",
    "# Create legend & Show graphic\n",
    "plt.legend()\n",
    "plt.show()\n"
   ]
  },
  {
   "cell_type": "markdown",
   "metadata": {},
   "source": [
    "## Gender and Career"
   ]
  },
  {
   "cell_type": "code",
   "execution_count": 40,
   "metadata": {},
   "outputs": [],
   "source": [
    "def prepare_df(df, column):\n",
    "    \"\"\"Outcome: Selected column in the df has no NaN values\"\"\"\n",
    "     # Fill numeric columns with the mean\n",
    "    if sum(df[column].isna())/df.shape[0]<= 0.3:\n",
    "        df[column].fillna((df[column].mean()), inplace=True)       \n",
    "    else:\n",
    "        df = df.dropna(subset = [column], axis = 0)\n",
    "    return df\n",
    "\n",
    "def run_ttest(df, column):\n",
    "    \"\"\"Outcome: Selected two values (cat1 and cat2) and compared in the Independent Samples T-Test\n",
    "    Output: T-test score, and p-value\"\"\"\n",
    "    df = prepare_df(df, column)\n",
    "    cat1 = df[df['Gender']=='Male']\n",
    "    cat2 =df[df['Gender']=='Female']\n",
    "\n",
    "#     print(df.shape)\n",
    "    return ttest_ind(cat1[column], cat2[column])"
   ]
  },
  {
   "cell_type": "code",
   "execution_count": 46,
   "metadata": {
    "scrolled": false
   },
   "outputs": [
    {
     "data": {
      "image/png": "[encoded data removed]",
      "text/plain": [
       "<Figure size 576x360 with 1 Axes>"
      ]
     },
     "metadata": {
      "needs_background": "light"
     },
     "output_type": "display_data"
    },
    {
     "name": "stdout",
     "output_type": "stream",
     "text": [
      "T-test Results: Ttest_indResult(statistic=1.4052392377309995, pvalue=0.15995923669298495)\n"
     ]
    },
    {
     "data": {
      "image/png": "[encoded data removed]",
      "text/plain": [
       "<Figure size 576x360 with 1 Axes>"
      ]
     },
     "metadata": {
      "needs_background": "light"
     },
     "output_type": "display_data"
    },
    {
     "name": "stdout",
     "output_type": "stream",
     "text": [
      "T-test Results: Ttest_indResult(statistic=5.065005553780798, pvalue=4.1050935015467665e-07)\n"
     ]
    },
    {
     "data": {
      "image/png": "[encoded data removed]",
      "text/plain": [
       "<Figure size 576x360 with 1 Axes>"
      ]
     },
     "metadata": {
      "needs_background": "light"
     },
     "output_type": "display_data"
    },
    {
     "name": "stdout",
     "output_type": "stream",
     "text": [
      "T-test Results: Ttest_indResult(statistic=-0.7564769929054644, pvalue=0.4493787807516285)\n"
     ]
    }
   ],
   "source": [
    "list_columns = ['JobSatisfaction', 'CareerSatisfaction', 'Salary']\n",
    "\n",
    "for column in list_columns:\n",
    "    df_one_var = prepare_df(df, column)\n",
    "#     print(\"Gender Means for {}\".format(column))\n",
    "#     print(df_one_var.groupby('Gender')[column].mean())\n",
    "    df_one_var.groupby('Gender')[column].mean().plot(kind = 'barh', color='#557f2d' , title = column + ' ' + \"- Means by Gender\", figsize = (8,5))\n",
    "    plt.show()\n",
    "#     print(df_one_var['Gender'].value_counts())\n",
    "    print(\"T-test Results: {}\".format(run_ttest(df_one_var, column)))"
   ]
  },
  {
   "cell_type": "markdown",
   "metadata": {},
   "source": [
    "## How many have answered salary questions"
   ]
  },
  {
   "cell_type": "code",
   "execution_count": 16,
   "metadata": {},
   "outputs": [
    {
     "data": {
      "text/plain": [
       "0.3340942163380603"
      ]
     },
     "execution_count": 16,
     "metadata": {},
     "output_type": "execute_result"
    }
   ],
   "source": [
    "df[-df.Salary.isnull()].shape[0]/df.shape[0]"
   ]
  },
  {
   "cell_type": "markdown",
   "metadata": {},
   "source": [
    "## How many have answered salary questions by gender"
   ]
  },
  {
   "cell_type": "code",
   "execution_count": 28,
   "metadata": {},
   "outputs": [
    {
     "data": {
      "text/plain": [
       "Gender\n",
       "Female      819\n",
       "Male      10666\n",
       "Others      224\n",
       "Name: Respondent, dtype: int64"
      ]
     },
     "execution_count": 28,
     "metadata": {},
     "output_type": "execute_result"
    }
   ],
   "source": [
    "df[-df.Salary.isnull()].groupby(['Gender'])['Respondent'].count()"
   ]
  },
  {
   "cell_type": "code",
   "execution_count": 17,
   "metadata": {
    "scrolled": true
   },
   "outputs": [
    {
     "data": {
      "text/plain": [
       "Gender\n",
       "Female    0.069946\n",
       "Male      0.910923\n",
       "Others    0.019131\n",
       "Name: Respondent, dtype: float64"
      ]
     },
     "execution_count": 17,
     "metadata": {},
     "output_type": "execute_result"
    }
   ],
   "source": [
    "# how many provided salary information\n",
    "df[-df.Salary.isnull()].groupby(['Gender'])['Respondent'].count()/df[-df.Salary.isnull()].shape[0]"
   ]
  },
  {
   "cell_type": "markdown",
   "metadata": {},
   "source": [
    "## Ex-coders answers"
   ]
  },
  {
   "cell_type": "code",
   "execution_count": 80,
   "metadata": {},
   "outputs": [],
   "source": [
    "def return_question_gender_percentage(df, column, title):\n",
    "    # creating table with raw numbers of gender count in a given column     \n",
    "    df_gender = df.groupby(['Gender'])[column].count().reset_index()\n",
    "    \n",
    "    # creating table with possible answers for the questions by gender   \n",
    "    df_question = df.groupby(['Gender', column])['Respondent'].count().reset_index()\n",
    "    \n",
    "    #  creating flag for 'agree' responses\n",
    "    df_question[column] = [item.lower() for item in df_question[column]]\n",
    "    df_question['agree_flag'] = np.where(df_question[column].str.contains ('disagree'), 0, 1  )\n",
    "    \n",
    "    #  creating table with gender and flag counts   \n",
    "    df_question = df_question.groupby(['Gender', 'agree_flag'])['Respondent'].sum().reset_index()\n",
    "    \n",
    "    # joining two tables for calculation percentage\n",
    "    df_joined = df_gender.join(df_question.set_index('Gender'), on = 'Gender', lsuffix= 'df_gender')\n",
    "    df_joined[\"Proportion\" + column] = df_joined.Respondent / df_joined[column]\n",
    "\n",
    "    df_joined = df_joined[df_joined.agree_flag == 1]   \n",
    "    df_joined = df_joined.drop(['agree_flag'], axis = 1)\n",
    "    df_joined = df_joined.rename(columns = {column : 'Number of Respondents',\n",
    "                                           'Respondent': 'Agreed',\n",
    "                                           \"Proportion\" + column : '% of Total'})\n",
    "    \n",
    "    return print(df_joined),  df_joined[[\"Gender\", '% of Total']].set_index('Gender').plot(kind = 'bar', figsize=(8,4), title = title, color='#557f2d')"
   ]
  },
  {
   "cell_type": "code",
   "execution_count": 81,
   "metadata": {},
   "outputs": [
    {
     "name": "stdout",
     "output_type": "stream",
     "text": [
      "   Gender  Number of Respondents  Agreed  % of Total\n",
      "0  Female                     52      31    0.596154\n",
      "1    Male                    577     377    0.653380\n",
      "2  Others                     20      13    0.650000\n"
     ]
    },
    {
     "data": {
      "text/plain": [
       "(None, <matplotlib.axes._subplots.AxesSubplot at 0x1e2f324c148>)"
      ]
     },
     "execution_count": 81,
     "metadata": {},
     "output_type": "execute_result"
    },
    {
     "data": {
      "image/png": "[encoded data removed]",
      "text/plain": [
       "<Figure size 576x288 with 1 Axes>"
      ]
     },
     "metadata": {
      "needs_background": "light"
     },
     "output_type": "display_data"
    }
   ],
   "source": [
    "return_question_gender_percentage(df, 'ExCoderReturn', \n",
    "                                  'If money weren\"t an issue, I would take a coding job again - Response: Agree')"
   ]
  },
  {
   "cell_type": "code",
   "execution_count": 82,
   "metadata": {},
   "outputs": [
    {
     "name": "stdout",
     "output_type": "stream",
     "text": [
      "   Gender  Number of Respondents  Agreed  % of Total\n",
      "0  Female                     52      15    0.288462\n",
      "1    Male                    574     130    0.226481\n",
      "2  Others                     20       9    0.450000\n"
     ]
    },
    {
     "data": {
      "text/plain": [
       "(None, <matplotlib.axes._subplots.AxesSubplot at 0x1e2f32dce48>)"
      ]
     },
     "execution_count": 82,
     "metadata": {},
     "output_type": "execute_result"
    },
    {
     "data": {
      "image/png": "[encoded data removed]",
      "text/plain": [
       "<Figure size 576x288 with 1 Axes>"
      ]
     },
     "metadata": {
      "needs_background": "light"
     },
     "output_type": "display_data"
    }
   ],
   "source": [
    "return_question_gender_percentage(df, 'ExCoderNotForMe', \n",
    "                                  'Working as a developer just wasn\"t for me - Response: Agree')"
   ]
  },
  {
   "cell_type": "code",
   "execution_count": 83,
   "metadata": {
    "scrolled": false
   },
   "outputs": [
    {
     "name": "stdout",
     "output_type": "stream",
     "text": [
      "   Gender  Number of Respondents  Agreed  % of Total\n",
      "0  Female                     51      36    0.705882\n",
      "1    Male                    576     305    0.529514\n",
      "2  Others                     20      12    0.600000\n"
     ]
    },
    {
     "data": {
      "text/plain": [
       "(None, <matplotlib.axes._subplots.AxesSubplot at 0x1e2f3344c88>)"
      ]
     },
     "execution_count": 83,
     "metadata": {},
     "output_type": "execute_result"
    },
    {
     "data": {
      "image/png": "[encoded data removed]",
      "text/plain": [
       "<Figure size 576x288 with 1 Axes>"
      ]
     },
     "metadata": {
      "needs_background": "light"
     },
     "output_type": "display_data"
    }
   ],
   "source": [
    "return_question_gender_percentage(df, 'ExCoderBalance', \n",
    "                                  ' I have better work-life balance now than I did as a developer - Response: Agree')"
   ]
  },
  {
   "cell_type": "code",
   "execution_count": 84,
   "metadata": {},
   "outputs": [
    {
     "name": "stdout",
     "output_type": "stream",
     "text": [
      "   Gender  Number of Respondents  Agreed  % of Total\n",
      "0  Female                     52      18    0.346154\n",
      "1    Male                    573     315    0.549738\n",
      "2  Others                     20       7    0.350000\n"
     ]
    },
    {
     "data": {
      "text/plain": [
       "(None, <matplotlib.axes._subplots.AxesSubplot at 0x1e2f33ab8c8>)"
      ]
     },
     "execution_count": 84,
     "metadata": {},
     "output_type": "execute_result"
    },
    {
     "data": {
      "image/png": "[encoded data removed]",
      "text/plain": [
       "<Figure size 576x288 with 1 Axes>"
      ]
     },
     "metadata": {
      "needs_background": "light"
     },
     "output_type": "display_data"
    }
   ],
   "source": [
    "return_question_gender_percentage(df, 'ExCoder10Years', \n",
    "                                  'My career is going the way I thought it would 10 years ago - Response: Agree')"
   ]
  },
  {
   "cell_type": "code",
   "execution_count": 85,
   "metadata": {},
   "outputs": [
    {
     "name": "stdout",
     "output_type": "stream",
     "text": [
      "   Gender  Number of Respondents  Agreed  % of Total\n",
      "0  Female                     52      22    0.423077\n",
      "1    Male                    577     160    0.277296\n",
      "2  Others                     20      13    0.650000\n"
     ]
    },
    {
     "data": {
      "text/plain": [
       "(None, <matplotlib.axes._subplots.AxesSubplot at 0x1e2f340fd88>)"
      ]
     },
     "execution_count": 85,
     "metadata": {},
     "output_type": "execute_result"
    },
    {
     "data": {
      "image/png": "[encoded data removed]",
      "text/plain": [
       "<Figure size 576x288 with 1 Axes>"
      ]
     },
     "metadata": {
      "needs_background": "light"
     },
     "output_type": "display_data"
    }
   ],
   "source": [
    "return_question_gender_percentage(df, 'ExCoderBelonged', \n",
    "                                  'When I was a developer, I didn\"t feel like I belonged with my colleagues - Response: Agree')"
   ]
  },
  {
   "cell_type": "code",
   "execution_count": 86,
   "metadata": {},
   "outputs": [
    {
     "name": "stdout",
     "output_type": "stream",
     "text": [
      "   Gender  Number of Respondents  Agreed  % of Total\n",
      "0  Female                     52      42    0.807692\n",
      "1    Male                    582     374    0.642612\n",
      "2  Others                     20      11    0.550000\n"
     ]
    },
    {
     "data": {
      "text/plain": [
       "(None, <matplotlib.axes._subplots.AxesSubplot at 0x1e2f347bd88>)"
      ]
     },
     "execution_count": 86,
     "metadata": {},
     "output_type": "execute_result"
    },
    {
     "data": {
      "image/png": "[encoded data removed]",
      "text/plain": [
       "<Figure size 576x288 with 1 Axes>"
      ]
     },
     "metadata": {
      "needs_background": "light"
     },
     "output_type": "display_data"
    }
   ],
   "source": [
    "return_question_gender_percentage(df, 'ExCoderSkills', \n",
    "                                  'I don\"t think my coding skills are up to date - Response: Agree')"
   ]
  },
  {
   "cell_type": "code",
   "execution_count": 87,
   "metadata": {},
   "outputs": [
    {
     "name": "stdout",
     "output_type": "stream",
     "text": [
      "   Gender  Number of Respondents  Agreed  % of Total\n",
      "0  Female                     50      24    0.480000\n",
      "1    Male                    576     228    0.395833\n",
      "2  Others                     20      12    0.600000\n"
     ]
    },
    {
     "data": {
      "text/plain": [
       "(None, <matplotlib.axes._subplots.AxesSubplot at 0x1e2f34e9a08>)"
      ]
     },
     "execution_count": 87,
     "metadata": {},
     "output_type": "execute_result"
    },
    {
     "data": {
      "image/png": "[encoded data removed]",
      "text/plain": [
       "<Figure size 576x288 with 1 Axes>"
      ]
     },
     "metadata": {
      "needs_background": "light"
     },
     "output_type": "display_data"
    }
   ],
   "source": [
    "return_question_gender_percentage(df, 'ExCoderWillNotCode', \n",
    "                                  'I probably won\"t code for a living ever again - Response: Agree')"
   ]
  },
  {
   "cell_type": "code",
   "execution_count": 88,
   "metadata": {},
   "outputs": [
    {
     "name": "stdout",
     "output_type": "stream",
     "text": [
      "   Gender  Number of Respondents  Agreed  % of Total\n",
      "0  Female                     52      36    0.692308\n",
      "1    Male                    584     431    0.738014\n",
      "2  Others                     20      18    0.900000\n"
     ]
    },
    {
     "data": {
      "text/plain": [
       "(None, <matplotlib.axes._subplots.AxesSubplot at 0x1e2f35587c8>)"
      ]
     },
     "execution_count": 88,
     "metadata": {},
     "output_type": "execute_result"
    },
    {
     "data": {
      "image/png": "[encoded data removed]",
      "text/plain": [
       "<Figure size 576x288 with 1 Axes>"
      ]
     },
     "metadata": {
      "needs_background": "light"
     },
     "output_type": "display_data"
    }
   ],
   "source": [
    "return_question_gender_percentage(df, 'ExCoderActive', \n",
    "                                  'I\"m still active in the developer community - Response: Agree')"
   ]
  }
 ],
 "metadata": {
  "kernelspec": {
   "display_name": "Python 3",
   "language": "python",
   "name": "python3"
  },
  "language_info": {
   "codemirror_mode": {
    "name": "ipython",
    "version": 3
   },
   "file_extension": ".py",
   "mimetype": "text/x-python",
   "name": "python",
   "nbconvert_exporter": "python",
   "pygments_lexer": "ipython3",
   "version": "3.7.4"
  }
 },
 "nbformat": 4,
 "nbformat_minor": 2
}
