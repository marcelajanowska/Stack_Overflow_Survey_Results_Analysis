{
 "cells": [
  {
   "cell_type": "markdown",
   "metadata": {},
   "source": [
    "## This is a workbook analysing Stack Overflow Yearly Survey Results (2017)"
   ]
  },
  {
   "cell_type": "code",
   "execution_count": 19,
   "metadata": {},
   "outputs": [],
   "source": [
    "# Loading libraries\n",
    "\n",
    "import pandas as pd\n",
    "import numpy as np\n",
    "import matplotlib as plt\n",
    "import seaborn as sns\n",
    "# %matplotlip inline\n",
    "\n",
    "# libraries\n",
    "import numpy as np\n",
    "import matplotlib.pyplot as plt\n",
    "\n",
    "\n",
    "from scipy.stats import ttest_ind # library to perform t-test\n",
    "\n",
    "import warnings\n",
    "warnings.filterwarnings(\"ignore\")"
   ]
  },
  {
   "cell_type": "code",
   "execution_count": 20,
   "metadata": {},
   "outputs": [
    {
     "data": {
      "text/plain": [
       "(51392, 154)"
      ]
     },
     "execution_count": 20,
     "metadata": {},
     "output_type": "execute_result"
    }
   ],
   "source": [
    "# loading data\n",
    "\n",
    "df = pd.read_csv('survey-results-public.csv')\n",
    "df.shape"
   ]
  },
  {
   "cell_type": "markdown",
   "metadata": {},
   "source": [
    "## Business Understanding"
   ]
  },
  {
   "cell_type": "markdown",
   "metadata": {},
   "source": [
    "In my project I decided to look at the Stack Overflow 2017 survey results and find the significant differences in answers provided by two genders that represent the highest number of respondents. Those responses will hopefully demonstrate each gender priorities in technology industry."
   ]
  },
  {
   "cell_type": "markdown",
   "metadata": {},
   "source": [
    "I will try to understand several questions as follows:\n",
    "1. Geo differences in survey participation by gender\n",
    "2. Job Satisfaction by gender\n",
    "3. Career Satisfaction by gender\n",
    "4. Salaries by gender\n",
    "5. Ex-coder responses: Work-life balance question\n",
    "6. Ex-coder responses: Sense of belonging with work colleagues\n"
   ]
  },
  {
   "cell_type": "markdown",
   "metadata": {},
   "source": [
    "I started by analysing number of respondents by the gender class"
   ]
  },
  {
   "cell_type": "code",
   "execution_count": 21,
   "metadata": {},
   "outputs": [
    {
     "data": {
      "text/plain": [
       "Male                                                       31589\n",
       "Female                                                      2600\n",
       "Other                                                        225\n",
       "Male; Other                                                  171\n",
       "Gender non-conforming                                        160\n",
       "Male; Gender non-conforming                                   65\n",
       "Female; Transgender                                           56\n",
       "Transgender                                                   55\n",
       "Female; Gender non-conforming                                 29\n",
       "Transgender; Gender non-conforming                            15\n",
       "Male; Female; Transgender; Gender non-conforming; Other       15\n",
       "Male; Female                                                  15\n",
       "Male; Transgender                                             11\n",
       "Female; Transgender; Gender non-conforming                     8\n",
       "Male; Female; Transgender; Gender non-conforming               7\n",
       "Male; Female; Transgender                                      4\n",
       "Male; Transgender; Gender non-conforming                       4\n",
       "Gender non-conforming; Other                                   4\n",
       "Male; Gender non-conforming; Other                             3\n",
       "Male; Female; Other                                            2\n",
       "Female; Transgender; Other                                     1\n",
       "Female; Transgender; Gender non-conforming; Other              1\n",
       "Female; Other                                                  1\n",
       "Male; Transgender; Other                                       1\n",
       "Male; Female; Gender non-conforming; Other                     1\n",
       "Male; Female; Gender non-conforming                            1\n",
       "Transgender; Other                                             1\n",
       "Male; Female; Transgender; Other                               1\n",
       "Female; Gender non-conforming; Other                           1\n",
       "Name: Gender, dtype: int64"
      ]
     },
     "execution_count": 21,
     "metadata": {},
     "output_type": "execute_result"
    }
   ],
   "source": [
    "# number of records by gender\n",
    "\n",
    "df['Gender'].value_counts()"
   ]
  },
  {
   "cell_type": "code",
   "execution_count": 22,
   "metadata": {},
   "outputs": [
    {
     "data": {
      "text/plain": [
       "0.3180456102117061"
      ]
     },
     "execution_count": 22,
     "metadata": {},
     "output_type": "execute_result"
    }
   ],
   "source": [
    "# Proporotion of NaN records\n",
    "\n",
    "sum(df['Gender'].isna())/df.shape[0]"
   ]
  },
  {
   "cell_type": "code",
   "execution_count": 23,
   "metadata": {},
   "outputs": [
    {
     "data": {
      "text/plain": [
       "30"
      ]
     },
     "execution_count": 23,
     "metadata": {},
     "output_type": "execute_result"
    }
   ],
   "source": [
    "# number of different names of gender classification i.e. 'Female', 'Female; Transgender; Gender non-conforming', 'Other'\n",
    "\n",
    "len(set(df['Gender']))"
   ]
  },
  {
   "cell_type": "markdown",
   "metadata": {},
   "source": [
    "Categorical records can be imputed by using mode value but since there are 30 different categories for gender and there is high variety of composite classes I decided to remove the 31.8% of records to leave only the two highest classes and aggegate all other classes into 'Others'. In my analysis I wanted to focus on the differences between two top classes 'Male' and 'Female'"
   ]
  },
  {
   "cell_type": "code",
   "execution_count": 24,
   "metadata": {},
   "outputs": [
    {
     "data": {
      "text/plain": [
       "(35047, 154)"
      ]
     },
     "execution_count": 24,
     "metadata": {},
     "output_type": "execute_result"
    }
   ],
   "source": [
    "# remove rows with no gender information\n",
    "\n",
    "df = df.dropna(subset = ['Gender'], axis = 0)\n",
    "df.shape"
   ]
  },
  {
   "cell_type": "markdown",
   "metadata": {},
   "source": [
    "## Data Understanding"
   ]
  },
  {
   "cell_type": "markdown",
   "metadata": {},
   "source": [
    "## 1. Geo differences in survey participation by gender"
   ]
  },
  {
   "cell_type": "markdown",
   "metadata": {},
   "source": [
    "#### Distribution by gender\n",
    "\n",
    "In this section of my project I calculated what is the overall % of males and females that took part in the survey"
   ]
  },
  {
   "cell_type": "code",
   "execution_count": 25,
   "metadata": {
    "scrolled": false
   },
   "outputs": [
    {
     "name": "stdout",
     "output_type": "stream",
     "text": [
      "Distribution of respondents by gender (raw numbers) \n",
      "Male      31589\n",
      "Female     2600\n",
      "Others      858\n",
      "Name: Gender, dtype: int64\n",
      "Distribution of respondents by gender (percentage) \n",
      "Male      90.133250\n",
      "Female     7.418609\n",
      "Others     2.448141\n",
      "Name: Gender, dtype: float64\n"
     ]
    },
    {
     "data": {
      "text/plain": [
       "<matplotlib.axes._subplots.AxesSubplot at 0x172e5efc388>"
      ]
     },
     "execution_count": 25,
     "metadata": {},
     "output_type": "execute_result"
    },
    {
     "data": {
      "image/png": "[encoded data removed]",
      "text/plain": [
       "<Figure size 432x288 with 1 Axes>"
      ]
     },
     "metadata": {
      "needs_background": "light"
     },
     "output_type": "display_data"
    }
   ],
   "source": [
    "# re-categorise gender field to 'Male', 'Female' and 'Other'\n",
    "df['Gender'] = np.where(df.Gender == 'Male', 'Male', np.where(df.Gender == 'Female', 'Female', 'Others'))\n",
    "\n",
    "# Simple distribution of Gender Category\n",
    "print('Distribution of respondents by gender (raw numbers) \\n{}'.format(df['Gender'].value_counts()))\n",
    "print('Distribution of respondents by gender (percentage) \\n{}'.format((df['Gender'].value_counts()/df.shape[0])*100))\n",
    "\n",
    "(df['Gender'].value_counts()).plot(kind = 'barh', color='#557f2d', title = \"Number of respondents by gender\")"
   ]
  },
  {
   "cell_type": "code",
   "execution_count": 26,
   "metadata": {},
   "outputs": [
    {
     "name": "stdout",
     "output_type": "stream",
     "text": [
      "Male survey respondents was 90.13\n",
      "Female survey respondenst was 7.42\n"
     ]
    }
   ],
   "source": [
    "print(\"Male survey respondents was {:.2f}\".format((sum(df.Gender == 'Male')/df.shape[0])*100))\n",
    "print(\"Female survey respondenst was {:.2f}\".format((sum(df.Gender == 'Female')/df.shape[0])*100))"
   ]
  },
  {
   "cell_type": "markdown",
   "metadata": {},
   "source": [
    "#### Gender Distribution by Country\n",
    "\n",
    "In this part of my project I selected top 18 countries in terms of number of respondents and calculated the gender distribution for each country"
   ]
  },
  {
   "cell_type": "code",
   "execution_count": 27,
   "metadata": {},
   "outputs": [
    {
     "name": "stdout",
     "output_type": "stream",
     "text": [
      "Top 18 countries number of respondents by gender\n",
      "Male      24053\n",
      "Female     2068\n",
      "Others      654\n",
      "Name: Gender, dtype: int64\n"
     ]
    }
   ],
   "source": [
    "#  selecting only countries with at least 1% of all respondents\n",
    "\n",
    "df_countries = ((df.groupby(['Country'])['Respondent'].count().sort_values(ascending = False)/df.shape[0])>=.01).reset_index()\n",
    "df_countries = df_countries[df_countries.Respondent == True]\n",
    "\n",
    "# create a df with only a subset of countries\n",
    "list_countries = list(df_countries.iloc[:, 0])\n",
    "\n",
    "subset_df = df[df['Country'].isin(list_countries)]\n",
    "\n",
    "# print the count by gender\n",
    "print(\"Top 18 countries number of respondents by gender\\n{}\".format(subset_df['Gender'].value_counts()))"
   ]
  },
  {
   "cell_type": "code",
   "execution_count": 28,
   "metadata": {
    "scrolled": false
   },
   "outputs": [
    {
     "data": {
      "text/plain": [
       "<matplotlib.axes._subplots.AxesSubplot at 0x172e76d6408>"
      ]
     },
     "execution_count": 28,
     "metadata": {},
     "output_type": "execute_result"
    },
    {
     "data": {
      "image/png": "[encoded data removed]",
      "text/plain": [
       "<Figure size 864x576 with 1 Axes>"
      ]
     },
     "metadata": {
      "needs_background": "light"
     },
     "output_type": "display_data"
    }
   ],
   "source": [
    "subset_df.groupby(['Country'])['Respondent'].count().sort_values().plot(kind = \"barh\", figsize = (12,8), color='#557f2d', title = 'Top 18 countries by the number of respondents')"
   ]
  },
  {
   "cell_type": "code",
   "execution_count": 29,
   "metadata": {},
   "outputs": [],
   "source": [
    "# Country and Gender and proportion of total\n",
    "groups = subset_df.groupby(['Country', 'Gender'])['Respondent'].count()/subset_df.groupby(['Country'])['Respondent'].count()\n",
    "groups = groups.reset_index()"
   ]
  },
  {
   "cell_type": "code",
   "execution_count": 30,
   "metadata": {},
   "outputs": [
    {
     "data": {
      "text/plain": [
       "<matplotlib.axes._subplots.AxesSubplot at 0x172e69c2a08>"
      ]
     },
     "execution_count": 30,
     "metadata": {},
     "output_type": "execute_result"
    },
    {
     "data": {
      "image/png": "[encoded data removed]",
      "text/plain": [
       "<Figure size 864x576 with 1 Axes>"
      ]
     },
     "metadata": {
      "needs_background": "light"
     },
     "output_type": "display_data"
    }
   ],
   "source": [
    "# female respondents as a proportion of all respondents in a country\n",
    "groups[groups.Gender == 'Female'].sort_values(by = 'Respondent').set_index('Country').plot(kind = 'barh', figsize = (12,8), color='#557f2d', title = \"Proportion of female respondents by country\")"
   ]
  },
  {
   "cell_type": "markdown",
   "metadata": {},
   "source": [
    "## 2. Job Satisfaction by gender\n",
    "## 3. Career Satisfaction by gender\n",
    "## 4. Salary by gender"
   ]
  },
  {
   "cell_type": "markdown",
   "metadata": {},
   "source": [
    "In this part question 2, 3 and 4 regarding job and career satisfaction and salary will be ananalysed and the statistical significance t-test is going to be run"
   ]
  },
  {
   "cell_type": "code",
   "execution_count": null,
   "metadata": {},
   "outputs": [],
   "source": [
    "# Visualizations of columns distribution"
   ]
  },
  {
   "cell_type": "code",
   "execution_count": 75,
   "metadata": {},
   "outputs": [
    {
     "name": "stdout",
     "output_type": "stream",
     "text": [
      "Mean value: 6.9940375667751065\n",
      "Median value: 7.0\n"
     ]
    },
    {
     "data": {
      "image/png": "[encoded data removed]",
      "text/plain": [
       "<Figure size 432x288 with 1 Axes>"
      ]
     },
     "metadata": {
      "needs_background": "light"
     },
     "output_type": "display_data"
    }
   ],
   "source": [
    "df['JobSatisfaction'].hist()\n",
    "plt.title (\"Histogram Job Satisfaction\")\n",
    "print(\"Mean value: {}\".format(df['JobSatisfaction'].mean()))\n",
    "print(\"Median value: {}\".format(df['JobSatisfaction'].median()))"
   ]
  },
  {
   "cell_type": "code",
   "execution_count": 77,
   "metadata": {},
   "outputs": [
    {
     "name": "stdout",
     "output_type": "stream",
     "text": [
      "Mean value: 7.368548836904476\n",
      "Median value: 7.368548836904098:\n"
     ]
    },
    {
     "data": {
      "image/png": "[encoded data removed]",
      "text/plain": [
       "<Figure size 432x288 with 1 Axes>"
      ]
     },
     "metadata": {
      "needs_background": "light"
     },
     "output_type": "display_data"
    }
   ],
   "source": [
    "df['CareerSatisfaction'].hist()\n",
    "plt.title (\"Histogram Career Satisfaction\")\n",
    "print(\"Mean value: {}\".format(df['CareerSatisfaction'].mean()))\n",
    "print(\"Median value: {}:\".format(df['CareerSatisfaction'].median()))"
   ]
  },
  {
   "cell_type": "code",
   "execution_count": 79,
   "metadata": {},
   "outputs": [
    {
     "name": "stdout",
     "output_type": "stream",
     "text": [
      "Mean value: 57161.99448411068\n",
      "Median value: 50872.0930232558\n"
     ]
    },
    {
     "data": {
      "image/png": "[encoded data removed]",
      "text/plain": [
       "<Figure size 432x288 with 1 Axes>"
      ]
     },
     "metadata": {
      "needs_background": "light"
     },
     "output_type": "display_data"
    }
   ],
   "source": [
    "df['Salary'].hist()\n",
    "plt.title (\"Histogram Salary\")\n",
    "print(\"Mean value: {}\".format(df['Salary'].mean()))\n",
    "print(\"Median value: {}\".format(df['Salary'].median()))"
   ]
  },
  {
   "cell_type": "code",
   "execution_count": 31,
   "metadata": {},
   "outputs": [],
   "source": [
    "# data preparation\n",
    "def prepare_df(df, column):\n",
    "    \"\"\"Outcome: Selected column in the df has no NaN values\"\"\"    \n",
    "    # Check if the column has less than 30% of NaN values\n",
    "    # if < 30% then fill numeric columns with the mean => mean will be impacted by the new imputed values but there is \n",
    "    # still enough data to argue that it will add meaningful insight for data understanding and data modelling\n",
    "    #\n",
    "    # if > 30% then remove rows that are null => columns with the high proportion of NaN values will not be imputed and \n",
    "    # the NaN values will be removed. The column data will be not distorted by imputed values.\n",
    "    \n",
    "    # used mean values as a fill value as it gives the good approximate of the average value (including \n",
    "    # right or left tail values)\n",
    "    \n",
    "    \n",
    "    if sum(df[column].isna())/df.shape[0]<= 0.3:\n",
    "        df[column].fillna((df[column].mean()), inplace=True)       \n",
    "    else:\n",
    "        df = df.dropna(subset = [column], axis = 0)\n",
    "    return df\n",
    "\n",
    "# t-test function \n",
    "def run_ttest(df, column):\n",
    "    \"\"\"Outcome: Selected two values (cat1 and cat2) and compared in the Independent Samples T-Test\n",
    "    Output: T-test score, and p-value\"\"\"\n",
    "    df = prepare_df(df, column)\n",
    "    cat1 = df[df['Gender']=='Male']\n",
    "    cat2 =df[df['Gender']=='Female']\n",
    "\n",
    "#     print(df.shape)\n",
    "    return ttest_ind(cat1[column], cat2[column])"
   ]
  },
  {
   "cell_type": "code",
   "execution_count": 32,
   "metadata": {
    "scrolled": false
   },
   "outputs": [
    {
     "data": {
      "image/png": "[encoded data removed]",
      "text/plain": [
       "<Figure size 576x360 with 1 Axes>"
      ]
     },
     "metadata": {
      "needs_background": "light"
     },
     "output_type": "display_data"
    },
    {
     "name": "stdout",
     "output_type": "stream",
     "text": [
      "T-test Results: Ttest_indResult(statistic=1.4052392377309995, pvalue=0.15995923669298495)\n"
     ]
    },
    {
     "data": {
      "image/png": "[encoded data removed]",
      "text/plain": [
       "<Figure size 576x360 with 1 Axes>"
      ]
     },
     "metadata": {
      "needs_background": "light"
     },
     "output_type": "display_data"
    },
    {
     "name": "stdout",
     "output_type": "stream",
     "text": [
      "T-test Results: Ttest_indResult(statistic=5.065005553780798, pvalue=4.1050935015467665e-07)\n"
     ]
    },
    {
     "data": {
      "image/png": "[encoded data removed]",
      "text/plain": [
       "<Figure size 576x360 with 1 Axes>"
      ]
     },
     "metadata": {
      "needs_background": "light"
     },
     "output_type": "display_data"
    },
    {
     "name": "stdout",
     "output_type": "stream",
     "text": [
      "T-test Results: Ttest_indResult(statistic=-0.7564769929054644, pvalue=0.4493787807516285)\n"
     ]
    }
   ],
   "source": [
    "list_columns = ['JobSatisfaction', 'CareerSatisfaction', 'Salary']\n",
    "\n",
    "for column in list_columns:\n",
    "    df_one_var = prepare_df(df, column)\n",
    "    df_one_var.groupby('Gender')[column].mean().plot(kind = 'barh', color='#557f2d' , title = column + ' ' + \"- Means by Gender\", figsize = (8,5))\n",
    "    plt.show()\n",
    "    print(\"T-test Results: {}\".format(run_ttest(df_one_var, column)))"
   ]
  },
  {
   "cell_type": "markdown",
   "metadata": {},
   "source": [
    "#### How many have answered salary questions"
   ]
  },
  {
   "cell_type": "code",
   "execution_count": 33,
   "metadata": {},
   "outputs": [
    {
     "data": {
      "text/plain": [
       "0.3340942163380603"
      ]
     },
     "execution_count": 33,
     "metadata": {},
     "output_type": "execute_result"
    }
   ],
   "source": [
    "df[-df.Salary.isnull()].shape[0]/df.shape[0]"
   ]
  },
  {
   "cell_type": "markdown",
   "metadata": {},
   "source": [
    "#### How many have answered salary questions by gender"
   ]
  },
  {
   "cell_type": "code",
   "execution_count": 34,
   "metadata": {},
   "outputs": [
    {
     "data": {
      "text/plain": [
       "Gender\n",
       "Female      819\n",
       "Male      10666\n",
       "Others      224\n",
       "Name: Respondent, dtype: int64"
      ]
     },
     "execution_count": 34,
     "metadata": {},
     "output_type": "execute_result"
    }
   ],
   "source": [
    "df[-df.Salary.isnull()].groupby(['Gender'])['Respondent'].count()"
   ]
  },
  {
   "cell_type": "markdown",
   "metadata": {},
   "source": [
    "#### Salary respondents by gender distribution"
   ]
  },
  {
   "cell_type": "code",
   "execution_count": 35,
   "metadata": {
    "scrolled": true
   },
   "outputs": [
    {
     "data": {
      "text/plain": [
       "Gender\n",
       "Female    0.069946\n",
       "Male      0.910923\n",
       "Others    0.019131\n",
       "Name: Respondent, dtype: float64"
      ]
     },
     "execution_count": 35,
     "metadata": {},
     "output_type": "execute_result"
    }
   ],
   "source": [
    "# how many provided salary information\n",
    "df[-df.Salary.isnull()].groupby(['Gender'])['Respondent'].count()/df[-df.Salary.isnull()].shape[0]"
   ]
  },
  {
   "cell_type": "markdown",
   "metadata": {},
   "source": [
    "## 5. Ex-coder responses: Work-life balance question\n",
    "## 6. Ex-coder responses: Sense of belonging with work colleagues"
   ]
  },
  {
   "cell_type": "markdown",
   "metadata": {},
   "source": [
    "In this part two last questions 5 and 6 from the ex-coders will be analysed to look at the genders' differences for questions concerning work-life balance and sense of belonging"
   ]
  },
  {
   "cell_type": "code",
   "execution_count": 40,
   "metadata": {},
   "outputs": [],
   "source": [
    "def return_question_gender_percentage(df, column, title):\n",
    "    \"\"\"Outcome: The function returns 3 outputs providing the descriptive data analysis and statistical significance \n",
    "    t-test results\n",
    "    Output:\n",
    "    1. Summary table with the main data statistics such as: dimension (Gender), Number of respondents, \n",
    "    Number of respondents who agreed with the statement, % of respondents who agreed with the statement\n",
    "    2. Bar chart: % of respondents who agreed with the statement\n",
    "    3. Independent Samples T-Test result: T-test score, and p-value\n",
    "    \"\"\"\n",
    "    # creating table with raw numbers of gender count in a given column     \n",
    "    df_gender = df.groupby(['Gender'])[column].count().reset_index()\n",
    "    \n",
    "    # creating table with possible answers for the questions by gender   \n",
    "    df_question = df.groupby(['Gender', column])['Respondent'].count().reset_index()\n",
    "    \n",
    "    #  creating flag for 'agree' responses\n",
    "    df_question[column] = [item.lower() for item in df_question[column]]\n",
    "    df_question['agree_flag'] = np.where(df_question[column].str.contains ('disagree'), 0, 1  )\n",
    "    \n",
    "    #  creating table with gender and flag counts   \n",
    "    df_question = df_question.groupby(['Gender', 'agree_flag'])['Respondent'].sum().reset_index()\n",
    "    \n",
    "    # joining two tables for calculation percentage\n",
    "    df_joined = df_gender.join(df_question.set_index('Gender'), on = 'Gender', lsuffix= 'df_gender')\n",
    "    df_joined[\"Proportion\" + column] = (df_joined.Respondent / df_joined[column])*100\n",
    "\n",
    "    df_joined = df_joined[df_joined.agree_flag == 1]   \n",
    "    df_joined = df_joined.drop(['agree_flag'], axis = 1)\n",
    "    df_joined = df_joined.rename(columns = {column : 'Number of Respondents',\n",
    "                                           'Respondent': 'Agreed',\n",
    "                                           \"Proportion\" + column : '% of Total'})\n",
    "    \n",
    "    df = df[-df[column].isna()]\n",
    "    \n",
    "    #  creating flag for 'agree' responses\n",
    "    df[column] = [item.lower() for item in df[column]]\n",
    "    df['agree_flag'] = np.where(df[column].str.contains ('disagree'), 0, 1  )\n",
    "    \n",
    "    \n",
    "    return print(df_joined),  df_joined[[\"Gender\", '% of Total']].set_index('Gender').plot(kind = 'barh', figsize=(8,4), title = title, color='#557f2d'), print(\"T-test Results for {}: {}\".format(column, run_ttest(df, 'agree_flag')))"
   ]
  },
  {
   "cell_type": "code",
   "execution_count": 41,
   "metadata": {},
   "outputs": [
    {
     "name": "stdout",
     "output_type": "stream",
     "text": [
      "   Gender  Number of Respondents  Agreed  % of Total\n",
      "0  Female                     52      31   59.615385\n",
      "1    Male                    577     377   65.337955\n",
      "2  Others                     20      13   65.000000\n",
      "T-test Results for ExCoderReturn: Ttest_indResult(statistic=0.8270371615121609, pvalue=0.40853062924446226)\n"
     ]
    },
    {
     "data": {
      "text/plain": [
       "(None, <matplotlib.axes._subplots.AxesSubplot at 0x172e6906508>, None)"
      ]
     },
     "execution_count": 41,
     "metadata": {},
     "output_type": "execute_result"
    },
    {
     "data": {
      "image/png": "[encoded data removed]",
      "text/plain": [
       "<Figure size 576x288 with 1 Axes>"
      ]
     },
     "metadata": {
      "needs_background": "light"
     },
     "output_type": "display_data"
    }
   ],
   "source": [
    "return_question_gender_percentage(df, 'ExCoderReturn', \n",
    "                                  \"If money weren't an issue, I would take a coding job again - Response: Agree\")"
   ]
  },
  {
   "cell_type": "code",
   "execution_count": 42,
   "metadata": {},
   "outputs": [
    {
     "name": "stdout",
     "output_type": "stream",
     "text": [
      "   Gender  Number of Respondents  Agreed  % of Total\n",
      "0  Female                     52      15   28.846154\n",
      "1    Male                    574     130   22.648084\n",
      "2  Others                     20       9   45.000000\n",
      "T-test Results for ExCoderNotForMe: Ttest_indResult(statistic=-1.0136946647413014, pvalue=0.3111213587522601)\n"
     ]
    },
    {
     "data": {
      "text/plain": [
       "(None, <matplotlib.axes._subplots.AxesSubplot at 0x172e64cdbc8>, None)"
      ]
     },
     "execution_count": 42,
     "metadata": {},
     "output_type": "execute_result"
    },
    {
     "data": {
      "image/png": "[encoded data removed]",
      "text/plain": [
       "<Figure size 576x288 with 1 Axes>"
      ]
     },
     "metadata": {
      "needs_background": "light"
     },
     "output_type": "display_data"
    }
   ],
   "source": [
    "return_question_gender_percentage(df, 'ExCoderNotForMe', \n",
    "                                  \"Working as a developer just wasn't for me - Response: Agree\")"
   ]
  },
  {
   "cell_type": "code",
   "execution_count": 43,
   "metadata": {
    "scrolled": false
   },
   "outputs": [
    {
     "name": "stdout",
     "output_type": "stream",
     "text": [
      "   Gender  Number of Respondents  Agreed  % of Total\n",
      "0  Female                     51      36   70.588235\n",
      "1    Male                    576     305   52.951389\n",
      "2  Others                     20      12   60.000000\n",
      "T-test Results for ExCoderBalance: Ttest_indResult(statistic=-2.4313148724605553, pvalue=0.015324165786428975)\n"
     ]
    },
    {
     "data": {
      "text/plain": [
       "(None, <matplotlib.axes._subplots.AxesSubplot at 0x172e69e8908>, None)"
      ]
     },
     "execution_count": 43,
     "metadata": {},
     "output_type": "execute_result"
    },
    {
     "data": {
      "image/png": "[encoded data removed]",
      "text/plain": [
       "<Figure size 576x288 with 1 Axes>"
      ]
     },
     "metadata": {
      "needs_background": "light"
     },
     "output_type": "display_data"
    }
   ],
   "source": [
    "return_question_gender_percentage(df, 'ExCoderBalance', \n",
    "                                  ' I have better work-life balance now than I did as a developer - Response: Agree')"
   ]
  },
  {
   "cell_type": "code",
   "execution_count": 44,
   "metadata": {},
   "outputs": [
    {
     "name": "stdout",
     "output_type": "stream",
     "text": [
      "   Gender  Number of Respondents  Agreed  % of Total\n",
      "0  Female                     52      18   34.615385\n",
      "1    Male                    573     315   54.973822\n",
      "2  Others                     20       7   35.000000\n",
      "T-test Results for ExCoder10Years: Ttest_indResult(statistic=2.830932007210688, pvalue=0.004791006353764504)\n"
     ]
    },
    {
     "data": {
      "text/plain": [
       "(None, <matplotlib.axes._subplots.AxesSubplot at 0x172e68cbb08>, None)"
      ]
     },
     "execution_count": 44,
     "metadata": {},
     "output_type": "execute_result"
    },
    {
     "data": {
      "image/png": "[encoded data removed]",
      "text/plain": [
       "<Figure size 576x288 with 1 Axes>"
      ]
     },
     "metadata": {
      "needs_background": "light"
     },
     "output_type": "display_data"
    }
   ],
   "source": [
    "return_question_gender_percentage(df, 'ExCoder10Years', \n",
    "                                  'My career is going the way I thought it would 10 years ago - Response: Agree')"
   ]
  },
  {
   "cell_type": "code",
   "execution_count": 45,
   "metadata": {},
   "outputs": [
    {
     "name": "stdout",
     "output_type": "stream",
     "text": [
      "   Gender  Number of Respondents  Agreed  % of Total\n",
      "0  Female                     52      22   42.307692\n",
      "1    Male                    577     160   27.729636\n",
      "2  Others                     20      13   65.000000\n",
      "T-test Results for ExCoderBelonged: Ttest_indResult(statistic=-2.2255748125605495, pvalue=0.026397512649288787)\n"
     ]
    },
    {
     "data": {
      "text/plain": [
       "(None, <matplotlib.axes._subplots.AxesSubplot at 0x172e637ef08>, None)"
      ]
     },
     "execution_count": 45,
     "metadata": {},
     "output_type": "execute_result"
    },
    {
     "data": {
      "image/png": "[encoded data removed]",
      "text/plain": [
       "<Figure size 576x288 with 1 Axes>"
      ]
     },
     "metadata": {
      "needs_background": "light"
     },
     "output_type": "display_data"
    }
   ],
   "source": [
    "return_question_gender_percentage(df, 'ExCoderBelonged', \n",
    "                                  \"When I was a developer, I didn't feel like I belonged with my colleagues - Response: Agree\")"
   ]
  },
  {
   "cell_type": "code",
   "execution_count": 46,
   "metadata": {},
   "outputs": [
    {
     "name": "stdout",
     "output_type": "stream",
     "text": [
      "   Gender  Number of Respondents  Agreed  % of Total\n",
      "0  Female                     52      42   80.769231\n",
      "1    Male                    582     374   64.261168\n",
      "2  Others                     20      11   55.000000\n",
      "T-test Results for ExCoderSkills: Ttest_indResult(statistic=-2.4083895085613802, pvalue=0.016308324632558106)\n"
     ]
    },
    {
     "data": {
      "text/plain": [
       "(None, <matplotlib.axes._subplots.AxesSubplot at 0x172e7698a48>, None)"
      ]
     },
     "execution_count": 46,
     "metadata": {},
     "output_type": "execute_result"
    },
    {
     "data": {
      "image/png": "[encoded data removed]",
      "text/plain": [
       "<Figure size 576x288 with 1 Axes>"
      ]
     },
     "metadata": {
      "needs_background": "light"
     },
     "output_type": "display_data"
    }
   ],
   "source": [
    "return_question_gender_percentage(df, 'ExCoderSkills', \n",
    "                                  \"I don't think my coding skills are up to date - Response: Agree\")"
   ]
  },
  {
   "cell_type": "code",
   "execution_count": 47,
   "metadata": {},
   "outputs": [
    {
     "name": "stdout",
     "output_type": "stream",
     "text": [
      "   Gender  Number of Respondents  Agreed  % of Total\n",
      "0  Female                     50      24   48.000000\n",
      "1    Male                    576     228   39.583333\n",
      "2  Others                     20      12   60.000000\n",
      "T-test Results for ExCoderWillNotCode: Ttest_indResult(statistic=-1.163491369729425, pvalue=0.24507490094224044)\n"
     ]
    },
    {
     "data": {
      "text/plain": [
       "(None, <matplotlib.axes._subplots.AxesSubplot at 0x172e646de88>, None)"
      ]
     },
     "execution_count": 47,
     "metadata": {},
     "output_type": "execute_result"
    },
    {
     "data": {
      "image/png": "[encoded data removed]",
      "text/plain": [
       "<Figure size 576x288 with 1 Axes>"
      ]
     },
     "metadata": {
      "needs_background": "light"
     },
     "output_type": "display_data"
    }
   ],
   "source": [
    "return_question_gender_percentage(df, 'ExCoderWillNotCode', \n",
    "                                  \"I probably won't code for a living ever again - Response: Agree\")"
   ]
  },
  {
   "cell_type": "code",
   "execution_count": 48,
   "metadata": {
    "scrolled": false
   },
   "outputs": [
    {
     "name": "stdout",
     "output_type": "stream",
     "text": [
      "   Gender  Number of Respondents  Agreed  % of Total\n",
      "0  Female                     52      36   69.230769\n",
      "1    Male                    584     431   73.801370\n",
      "2  Others                     20      18   90.000000\n",
      "T-test Results for ExCoderActive: Ttest_indResult(statistic=0.7141654314478881, pvalue=0.4753877300368814)\n"
     ]
    },
    {
     "data": {
      "text/plain": [
       "(None, <matplotlib.axes._subplots.AxesSubplot at 0x172e75dfec8>, None)"
      ]
     },
     "execution_count": 48,
     "metadata": {},
     "output_type": "execute_result"
    },
    {
     "data": {
      "image/png": "[encoded data removed]",
      "text/plain": [
       "<Figure size 576x288 with 1 Axes>"
      ]
     },
     "metadata": {
      "needs_background": "light"
     },
     "output_type": "display_data"
    }
   ],
   "source": [
    "return_question_gender_percentage(df, 'ExCoderActive', \n",
    "                                  \"I'm still active in the developer community - Response: Agree\")"
   ]
  },
  {
   "cell_type": "markdown",
   "metadata": {},
   "source": [
    "## Evaluate the results"
   ]
  },
  {
   "cell_type": "markdown",
   "metadata": {},
   "source": [
    "The above findings showed that in terms of job satisfaction and salary there is no statistically significant differences between males and females. However, for career satisfaction, work-life balance and sense of belonging with tech colleagues the differences are significant and it is confirmed by the p-value < 0.05."
   ]
  }
 ],
 "metadata": {
  "kernelspec": {
   "display_name": "Python 3",
   "language": "python",
   "name": "python3"
  },
  "language_info": {
   "codemirror_mode": {
    "name": "ipython",
    "version": 3
   },
   "file_extension": ".py",
   "mimetype": "text/x-python",
   "name": "python",
   "nbconvert_exporter": "python",
   "pygments_lexer": "ipython3",
   "version": "3.7.4"
  }
 },
 "nbformat": 4,
 "nbformat_minor": 2
}
